{
  "nbformat": 4,
  "nbformat_minor": 0,
  "metadata": {
    "colab": {
      "provenance": [],
      "include_colab_link": true
    },
    "kernelspec": {
      "name": "python3",
      "display_name": "Python 3"
    },
    "language_info": {
      "name": "python"
    }
  },
  "cells": [
    {
      "cell_type": "markdown",
      "metadata": {
        "id": "view-in-github",
        "colab_type": "text"
      },
      "source": [
        "<a href=\"https://colab.research.google.com/github/SiriusBits/ml-engineering-lab/blob/main/LA2_Assignment_Solution.ipynb\" target=\"_parent\"><img src=\"https://colab.research.google.com/assets/colab-badge.svg\" alt=\"Open In Colab\"/></a>"
      ]
    },
    {
      "cell_type": "code",
      "execution_count": null,
      "metadata": {
        "id": "0iMX5sorgI7Y"
      },
      "outputs": [],
      "source": [
        "import pandas as pd\n",
        "import numpy as np"
      ]
    },
    {
      "cell_type": "code",
      "source": [
        "A=np.array([[2,3,4],[2,3,4],[4,5,6]])"
      ],
      "metadata": {
        "id": "uDWf1DtugI7Z"
      },
      "execution_count": null,
      "outputs": []
    },
    {
      "cell_type": "markdown",
      "source": [
        "##Write a Python function that takes a matrix A and an integer k as input and returns the top k principal components of A using PCA."
      ],
      "metadata": {
        "id": "xi5z5ccoCftS"
      }
    },
    {
      "cell_type": "code",
      "source": [
        "import numpy as np\n",
        "\n",
        "def pca(A, k):\n",
        "    eigen_vals, eigen_vecs = eigen_decomp(np.cov(A.T))\n",
        "    idx = eigen_vals.argsort()[::-1]\n",
        "    eigen_vals = eigen_vals[idx]\n",
        "    eigen_vecs = eigen_vecs[:,idx]\n",
        "    principal_components = eigen_vecs[:, :k]\n",
        "    transformed = A.dot(principal_components)\n",
        "    return transformed"
      ],
      "metadata": {
        "id": "oDNr-JhFDCd9"
      },
      "execution_count": null,
      "outputs": []
    },
    {
      "cell_type": "code",
      "source": [
        "pca(A, 2)"
      ],
      "metadata": {
        "colab": {
          "base_uri": "https://localhost:8080/"
        },
        "id": "zGY8qBOTP0Ra",
        "outputId": "cba1caa4-4b3c-43e7-a38e-dccdb36d9ed3"
      },
      "execution_count": null,
      "outputs": [
        {
          "output_type": "execute_result",
          "data": {
            "text/plain": [
              "array([[-5.19615242,  1.40824829],\n",
              "       [-5.19615242,  1.40824829],\n",
              "       [-8.66025404,  1.40824829]])"
            ]
          },
          "metadata": {},
          "execution_count": 45
        }
      ]
    },
    {
      "cell_type": "markdown",
      "source": [
        "##Write a Python function that takes a matrix A as input and returns its singular value decomposition (SVD)."
      ],
      "metadata": {
        "id": "OjtSBUktCfmC"
      }
    },
    {
      "cell_type": "code",
      "source": [
        "#Solution-1"
      ],
      "metadata": {
        "id": "wGJ5fU8JFbab"
      },
      "execution_count": null,
      "outputs": []
    },
    {
      "cell_type": "code",
      "source": [
        "import numpy as np\n",
        "\n",
        "def svd_decomp(A):\n",
        "    U, Sigma, Vt = np.linalg.svd(A)\n",
        "    return U, Sigma, Vt"
      ],
      "metadata": {
        "id": "tV0OaBH4Cmtz"
      },
      "execution_count": null,
      "outputs": []
    },
    {
      "cell_type": "code",
      "source": [
        "svd_decomp(A)"
      ],
      "metadata": {
        "colab": {
          "base_uri": "https://localhost:8080/"
        },
        "id": "2_5GPrlsL977",
        "outputId": "e5ae6d4d-a1a3-4365-f3f5-6a7f2d034a87"
      },
      "execution_count": null,
      "outputs": [
        {
          "output_type": "execute_result",
          "data": {
            "text/plain": [
              "(array([[-4.63279613e-01, -5.34202209e-01, -7.07106781e-01],\n",
              "        [-4.63279613e-01, -5.34202209e-01,  7.07106781e-01],\n",
              "        [-7.55476009e-01,  6.55176312e-01, -1.16573418e-15]]),\n",
              " array([1.16035987e+01, 5.97073667e-01, 5.69821139e-16]),\n",
              " array([[-0.42013022, -0.56508829, -0.71004635],\n",
              "        [ 0.81044675,  0.11835777, -0.57373122],\n",
              "        [-0.40824829,  0.81649658, -0.40824829]]))"
            ]
          },
          "metadata": {},
          "execution_count": 56
        }
      ]
    },
    {
      "cell_type": "markdown",
      "source": [
        "\n",
        "\n",
        "##Write a python code to derive simple linear regressions best fit line in python"
      ],
      "metadata": {
        "id": "WKEUHjgdCcUx"
      }
    },
    {
      "cell_type": "code",
      "source": [
        "#Solution-1"
      ],
      "metadata": {
        "id": "gich0xs3CVzp"
      },
      "execution_count": null,
      "outputs": []
    },
    {
      "cell_type": "code",
      "source": [
        "def simple_linear_regression(X,Y,L=0.015,epochs=1000):\n",
        "  # Building the model\n",
        "  m = 0\n",
        "  c = 0\n",
        "  n = float(len(X)) # Number of elements in X\n",
        "\n",
        "  # Performing Gradient Descent\n",
        "  for i in range(epochs):\n",
        "      Y_pred = m*X + c  # The current predicted value of Y\n",
        "      D_m = (-2/n) * sum(X * (Y - Y_pred))  # Derivative wrt m\n",
        "      D_c = (-2/n) * sum(Y - Y_pred)  # Derivative wrt c\n",
        "      m = m - L * D_m  # Update m\n",
        "      c = c - L * D_c  # Update c\n",
        "  print(\"Intercept (c):\", c)\n",
        "  print(\"Slope (m):\", m)\n",
        "\n",
        "  return m,c\n",
        "\n",
        "X = np.array([1, 2, 3, 4, 5])\n",
        "Y = np.array([2, 4, 5, 4, 5])\n",
        "simple_linear_regression(X,Y,L=0.015,epochs=1000)"
      ],
      "metadata": {
        "colab": {
          "base_uri": "https://localhost:8080/"
        },
        "id": "yRjYQKxwNEYS",
        "outputId": "fb45dbfb-ebdf-4c58-ea27-259bcb8b4f6b"
      },
      "execution_count": null,
      "outputs": [
        {
          "output_type": "stream",
          "name": "stdout",
          "text": [
            "Intercept (c): 2.1883022102284166\n",
            "Slope (m): 0.6032401001920664\n"
          ]
        },
        {
          "output_type": "execute_result",
          "data": {
            "text/plain": [
              "(0.6032401001920664, 2.1883022102284166)"
            ]
          },
          "metadata": {},
          "execution_count": 44
        }
      ]
    },
    {
      "cell_type": "code",
      "source": [
        "#Solution-2"
      ],
      "metadata": {
        "id": "jpsAsuw4O-HC"
      },
      "execution_count": null,
      "outputs": []
    },
    {
      "cell_type": "code",
      "source": [
        "import numpy as np\n",
        "\n",
        "def simple_linear_regression(x, y):\n",
        "    n = len(x)\n",
        "    x_mean = np.mean(x)\n",
        "    y_mean = np.mean(y)\n",
        "\n",
        "    # Calculate the slope (beta_1) and intercept (beta_0)\n",
        "    beta_1 = sum((x_i - x_mean)*(y_i - y_mean) for x_i, y_i in zip(x,y))/sum((x_i - x_mean)**2 for x_i in x)\n",
        "    beta_0 = y_mean - beta_1*x_mean\n",
        "\n",
        "    return beta_0, beta_1\n",
        "\n",
        "# Example usage\n",
        "x = np.array([1, 2, 3, 4, 5])\n",
        "y = np.array([2, 4, 5, 4, 5])\n",
        "beta_0, beta_1 = simple_linear_regression(x, y)\n",
        "print(\"Intercept (beta_0):\", beta_0)\n",
        "print(\"Slope (beta_1):\", beta_1)\n"
      ],
      "metadata": {
        "colab": {
          "base_uri": "https://localhost:8080/"
        },
        "id": "lwvVMRgcIHfI",
        "outputId": "52e585a8-aff7-4f52-db47-ef0bf2254d98"
      },
      "execution_count": null,
      "outputs": [
        {
          "output_type": "stream",
          "name": "stdout",
          "text": [
            "0.6032401001920664 2.1883022102284166\n"
          ]
        }
      ]
    },
    {
      "cell_type": "code",
      "source": [],
      "metadata": {
        "id": "ekwLw0SpgMFm"
      },
      "execution_count": null,
      "outputs": []
    },
    {
      "cell_type": "code",
      "source": [],
      "metadata": {
        "id": "_dTlWOcegMCv"
      },
      "execution_count": null,
      "outputs": []
    },
    {
      "cell_type": "code",
      "source": [],
      "metadata": {
        "id": "-MF3WNzYgL9R"
      },
      "execution_count": null,
      "outputs": []
    },
    {
      "cell_type": "code",
      "source": [],
      "metadata": {
        "id": "Pj0u0X7qgL5Y"
      },
      "execution_count": null,
      "outputs": []
    }
  ]
}