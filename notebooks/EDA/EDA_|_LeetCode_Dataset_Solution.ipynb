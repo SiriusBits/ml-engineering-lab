{
  "nbformat": 4,
  "nbformat_minor": 0,
  "metadata": {
    "colab": {
      "provenance": [],
      "include_colab_link": true
    },
    "kernelspec": {
      "name": "python3",
      "display_name": "Python 3"
    },
    "language_info": {
      "name": "python"
    }
  },
  "cells": [
    {
      "cell_type": "markdown",
      "metadata": {
        "id": "view-in-github",
        "colab_type": "text"
      },
      "source": [
        "<a href=\"https://colab.research.google.com/github/SiriusBits/ml-engineering-lab/blob/main/notebooks/EDA/EDA_%7C_LeetCode_Dataset_Solution.ipynb\" target=\"_parent\"><img src=\"https://colab.research.google.com/assets/colab-badge.svg\" alt=\"Open In Colab\"/></a>"
      ]
    },
    {
      "cell_type": "markdown",
      "source": [
        "##LeetCode DataSet\n",
        "####Understanding Real-life dataset\n",
        "\n",
        "It contains the following info:\n",
        "\n",
        " **id**: problem id **title**: problem name\n",
        "**description**: problem description\n",
        "**is_premium**: whether the questions requires a premium account\n",
        "**difficulty**: easy, medium, or hard\n",
        "**solution_link**: how often the answer submitted is correct\n",
        "**acceptance_rate**: how often the answer submitted is correct\n",
        "**frequency**: how often the problem is attempted\n",
        "**url**: url to the problem\n",
        "**discuss_count**: how many comments are submitted by users\n",
        "**accepted**: how many times the answer was accepted\n",
        "**submissions**: how many times the answer was submitted\n",
        "**companies**: which companies were tagged as having asked this specific problem\n",
        "**related_topics**: related topics to the current problem\n",
        "**likes**: how many likes the problem got\n",
        "**dislikes**: how many dislikes the problem got\n",
        "**rating**: likes / (likes + dislikes)\n",
        "**asked_by_faang**: whether or not the question was asked by facebook, apple, amazon, google, or netflix\n",
        "**similar_questions**: similar problems with problem name, slug, and difficulty\n",
        "\n",
        "\n",
        "\n"
      ],
      "metadata": {
        "id": "uQ9tVrO2lpOF"
      }
    },
    {
      "cell_type": "markdown",
      "source": [
        "### Load the Data in Memory\n",
        "\n",
        "\n",
        "1.   Add the required python library imports\n",
        "2.   Load the dataset\n",
        "3.   Check the head values(max till 10) to understand the relationship b/w attributes\n",
        "\n",
        "\n",
        "\n"
      ],
      "metadata": {
        "id": "W9RXhfpxqtGC"
      }
    },
    {
      "cell_type": "code",
      "source": [
        "from google.colab import drive\n",
        "drive.mount('/content/drive',force_remount=True)"
      ],
      "metadata": {
        "colab": {
          "base_uri": "https://localhost:8080/"
        },
        "id": "vbryuwvUPjPT",
        "outputId": "1f455db2-e534-46bf-a577-b6a4a53f614d"
      },
      "execution_count": null,
      "outputs": [
        {
          "output_type": "stream",
          "name": "stdout",
          "text": [
            "Mounted at /content/drive\n"
          ]
        }
      ]
    },
    {
      "cell_type": "code",
      "source": [
        "#some formats accepted in import\n",
        "import pandas as pd\n",
        "#from pandas import read_csv as csvreader\n",
        "#from pandas import read_csv\n",
        "import os\n",
        "os.chdir('/content/drive/MyDrive/IK_EDA')"
      ],
      "metadata": {
        "id": "scR6MSX1m0we"
      },
      "execution_count": null,
      "outputs": []
    },
    {
      "cell_type": "code",
      "source": [
        "#load the csv in the memory\n",
        "leetcode_dataset= pd.read_csv('leetcode_dataset - lc.csv')"
      ],
      "metadata": {
        "id": "IoN7pNMpnA8V"
      },
      "execution_count": null,
      "outputs": []
    },
    {
      "cell_type": "code",
      "source": [
        "# View first lines of dataset\n",
        "leetcode_dataset.head(n=4)"
      ],
      "metadata": {
        "colab": {
          "base_uri": "https://localhost:8080/",
          "height": 464
        },
        "id": "AWpS0faFqCFh",
        "outputId": "ffa28072-92d4-4550-db98-eca8464fb57d"
      },
      "execution_count": null,
      "outputs": [
        {
          "output_type": "execute_result",
          "data": {
            "text/plain": [
              "   id                                           title  \\\n",
              "0   1                                         Two Sum   \n",
              "1   2                                 Add Two Numbers   \n",
              "2   3  Longest Substring Without Repeating Characters   \n",
              "3   4                     Median of Two Sorted Arrays   \n",
              "\n",
              "                                         description  is_premium difficulty  \\\n",
              "0  Given an array of integers `nums` and an integ...           0       Easy   \n",
              "1  You are given two non-empty linked lists repre...           0     Medium   \n",
              "2  Given a string `s`, find the length of the lon...           0     Medium   \n",
              "3  Given two sorted arrays `nums1` and `nums2` of...           0       Hard   \n",
              "\n",
              "                                       solution_link  acceptance_rate  \\\n",
              "0                                  /articles/two-sum             46.7   \n",
              "1                          /articles/add-two-numbers             35.7   \n",
              "2  /articles/longest-substring-without-repeating-...             31.5   \n",
              "3              /articles/median-of-two-sorted-arrays             31.4   \n",
              "\n",
              "   frequency                                                url  \\\n",
              "0      100.0              https://leetcode.com/problems/two-sum   \n",
              "1       93.1      https://leetcode.com/problems/add-two-numbers   \n",
              "2       90.9  https://leetcode.com/problems/longest-substrin...   \n",
              "3       86.2  https://leetcode.com/problems/median-of-two-so...   \n",
              "\n",
              "   discuss_count accepted submissions  \\\n",
              "0            999     4.1M        8.7M   \n",
              "1            999     1.9M        5.2M   \n",
              "2            999     2.1M        6.7M   \n",
              "3            999   904.7K        2.9M   \n",
              "\n",
              "                                           companies  \\\n",
              "0  Amazon,Google,Apple,Adobe,Microsoft,Bloomberg,...   \n",
              "1  Bloomberg,Microsoft,Amazon,Google,Facebook,App...   \n",
              "2  Amazon,Bloomberg,Microsoft,Facebook,Apple,Adob...   \n",
              "3  Amazon,Goldman Sachs,Facebook,Microsoft,Apple,...   \n",
              "\n",
              "                                  related_topics  likes  dislikes  rating  \\\n",
              "0                               Array,Hash Table  20217       712      97   \n",
              "1                     Linked List,Math,Recursion  11350      2704      81   \n",
              "2  Hash Table,Two Pointers,String,Sliding Window  13810       714      95   \n",
              "3         Array,Binary Search,Divide and Conquer   9665      1486      87   \n",
              "\n",
              "   asked_by_faang                                  similar_questions  \n",
              "0               1  [3Sum, /problems/3sum/, Medium], [4Sum, /probl...  \n",
              "1               1  [Multiply Strings, /problems/multiply-strings/...  \n",
              "2               1  [Longest Substring with At Most Two Distinct C...  \n",
              "3               1                                                NaN  "
            ],
            "text/html": [
              "\n",
              "  <div id=\"df-398c2724-1fca-41ab-b222-e66f8facea1f\">\n",
              "    <div class=\"colab-df-container\">\n",
              "      <div>\n",
              "<style scoped>\n",
              "    .dataframe tbody tr th:only-of-type {\n",
              "        vertical-align: middle;\n",
              "    }\n",
              "\n",
              "    .dataframe tbody tr th {\n",
              "        vertical-align: top;\n",
              "    }\n",
              "\n",
              "    .dataframe thead th {\n",
              "        text-align: right;\n",
              "    }\n",
              "</style>\n",
              "<table border=\"1\" class=\"dataframe\">\n",
              "  <thead>\n",
              "    <tr style=\"text-align: right;\">\n",
              "      <th></th>\n",
              "      <th>id</th>\n",
              "      <th>title</th>\n",
              "      <th>description</th>\n",
              "      <th>is_premium</th>\n",
              "      <th>difficulty</th>\n",
              "      <th>solution_link</th>\n",
              "      <th>acceptance_rate</th>\n",
              "      <th>frequency</th>\n",
              "      <th>url</th>\n",
              "      <th>discuss_count</th>\n",
              "      <th>accepted</th>\n",
              "      <th>submissions</th>\n",
              "      <th>companies</th>\n",
              "      <th>related_topics</th>\n",
              "      <th>likes</th>\n",
              "      <th>dislikes</th>\n",
              "      <th>rating</th>\n",
              "      <th>asked_by_faang</th>\n",
              "      <th>similar_questions</th>\n",
              "    </tr>\n",
              "  </thead>\n",
              "  <tbody>\n",
              "    <tr>\n",
              "      <th>0</th>\n",
              "      <td>1</td>\n",
              "      <td>Two Sum</td>\n",
              "      <td>Given an array of integers `nums` and an integ...</td>\n",
              "      <td>0</td>\n",
              "      <td>Easy</td>\n",
              "      <td>/articles/two-sum</td>\n",
              "      <td>46.7</td>\n",
              "      <td>100.0</td>\n",
              "      <td>https://leetcode.com/problems/two-sum</td>\n",
              "      <td>999</td>\n",
              "      <td>4.1M</td>\n",
              "      <td>8.7M</td>\n",
              "      <td>Amazon,Google,Apple,Adobe,Microsoft,Bloomberg,...</td>\n",
              "      <td>Array,Hash Table</td>\n",
              "      <td>20217</td>\n",
              "      <td>712</td>\n",
              "      <td>97</td>\n",
              "      <td>1</td>\n",
              "      <td>[3Sum, /problems/3sum/, Medium], [4Sum, /probl...</td>\n",
              "    </tr>\n",
              "    <tr>\n",
              "      <th>1</th>\n",
              "      <td>2</td>\n",
              "      <td>Add Two Numbers</td>\n",
              "      <td>You are given two non-empty linked lists repre...</td>\n",
              "      <td>0</td>\n",
              "      <td>Medium</td>\n",
              "      <td>/articles/add-two-numbers</td>\n",
              "      <td>35.7</td>\n",
              "      <td>93.1</td>\n",
              "      <td>https://leetcode.com/problems/add-two-numbers</td>\n",
              "      <td>999</td>\n",
              "      <td>1.9M</td>\n",
              "      <td>5.2M</td>\n",
              "      <td>Bloomberg,Microsoft,Amazon,Google,Facebook,App...</td>\n",
              "      <td>Linked List,Math,Recursion</td>\n",
              "      <td>11350</td>\n",
              "      <td>2704</td>\n",
              "      <td>81</td>\n",
              "      <td>1</td>\n",
              "      <td>[Multiply Strings, /problems/multiply-strings/...</td>\n",
              "    </tr>\n",
              "    <tr>\n",
              "      <th>2</th>\n",
              "      <td>3</td>\n",
              "      <td>Longest Substring Without Repeating Characters</td>\n",
              "      <td>Given a string `s`, find the length of the lon...</td>\n",
              "      <td>0</td>\n",
              "      <td>Medium</td>\n",
              "      <td>/articles/longest-substring-without-repeating-...</td>\n",
              "      <td>31.5</td>\n",
              "      <td>90.9</td>\n",
              "      <td>https://leetcode.com/problems/longest-substrin...</td>\n",
              "      <td>999</td>\n",
              "      <td>2.1M</td>\n",
              "      <td>6.7M</td>\n",
              "      <td>Amazon,Bloomberg,Microsoft,Facebook,Apple,Adob...</td>\n",
              "      <td>Hash Table,Two Pointers,String,Sliding Window</td>\n",
              "      <td>13810</td>\n",
              "      <td>714</td>\n",
              "      <td>95</td>\n",
              "      <td>1</td>\n",
              "      <td>[Longest Substring with At Most Two Distinct C...</td>\n",
              "    </tr>\n",
              "    <tr>\n",
              "      <th>3</th>\n",
              "      <td>4</td>\n",
              "      <td>Median of Two Sorted Arrays</td>\n",
              "      <td>Given two sorted arrays `nums1` and `nums2` of...</td>\n",
              "      <td>0</td>\n",
              "      <td>Hard</td>\n",
              "      <td>/articles/median-of-two-sorted-arrays</td>\n",
              "      <td>31.4</td>\n",
              "      <td>86.2</td>\n",
              "      <td>https://leetcode.com/problems/median-of-two-so...</td>\n",
              "      <td>999</td>\n",
              "      <td>904.7K</td>\n",
              "      <td>2.9M</td>\n",
              "      <td>Amazon,Goldman Sachs,Facebook,Microsoft,Apple,...</td>\n",
              "      <td>Array,Binary Search,Divide and Conquer</td>\n",
              "      <td>9665</td>\n",
              "      <td>1486</td>\n",
              "      <td>87</td>\n",
              "      <td>1</td>\n",
              "      <td>NaN</td>\n",
              "    </tr>\n",
              "  </tbody>\n",
              "</table>\n",
              "</div>\n",
              "      <button class=\"colab-df-convert\" onclick=\"convertToInteractive('df-398c2724-1fca-41ab-b222-e66f8facea1f')\"\n",
              "              title=\"Convert this dataframe to an interactive table.\"\n",
              "              style=\"display:none;\">\n",
              "        \n",
              "  <svg xmlns=\"http://www.w3.org/2000/svg\" height=\"24px\"viewBox=\"0 0 24 24\"\n",
              "       width=\"24px\">\n",
              "    <path d=\"M0 0h24v24H0V0z\" fill=\"none\"/>\n",
              "    <path d=\"M18.56 5.44l.94 2.06.94-2.06 2.06-.94-2.06-.94-.94-2.06-.94 2.06-2.06.94zm-11 1L8.5 8.5l.94-2.06 2.06-.94-2.06-.94L8.5 2.5l-.94 2.06-2.06.94zm10 10l.94 2.06.94-2.06 2.06-.94-2.06-.94-.94-2.06-.94 2.06-2.06.94z\"/><path d=\"M17.41 7.96l-1.37-1.37c-.4-.4-.92-.59-1.43-.59-.52 0-1.04.2-1.43.59L10.3 9.45l-7.72 7.72c-.78.78-.78 2.05 0 2.83L4 21.41c.39.39.9.59 1.41.59.51 0 1.02-.2 1.41-.59l7.78-7.78 2.81-2.81c.8-.78.8-2.07 0-2.86zM5.41 20L4 18.59l7.72-7.72 1.47 1.35L5.41 20z\"/>\n",
              "  </svg>\n",
              "      </button>\n",
              "      \n",
              "  <style>\n",
              "    .colab-df-container {\n",
              "      display:flex;\n",
              "      flex-wrap:wrap;\n",
              "      gap: 12px;\n",
              "    }\n",
              "\n",
              "    .colab-df-convert {\n",
              "      background-color: #E8F0FE;\n",
              "      border: none;\n",
              "      border-radius: 50%;\n",
              "      cursor: pointer;\n",
              "      display: none;\n",
              "      fill: #1967D2;\n",
              "      height: 32px;\n",
              "      padding: 0 0 0 0;\n",
              "      width: 32px;\n",
              "    }\n",
              "\n",
              "    .colab-df-convert:hover {\n",
              "      background-color: #E2EBFA;\n",
              "      box-shadow: 0px 1px 2px rgba(60, 64, 67, 0.3), 0px 1px 3px 1px rgba(60, 64, 67, 0.15);\n",
              "      fill: #174EA6;\n",
              "    }\n",
              "\n",
              "    [theme=dark] .colab-df-convert {\n",
              "      background-color: #3B4455;\n",
              "      fill: #D2E3FC;\n",
              "    }\n",
              "\n",
              "    [theme=dark] .colab-df-convert:hover {\n",
              "      background-color: #434B5C;\n",
              "      box-shadow: 0px 1px 3px 1px rgba(0, 0, 0, 0.15);\n",
              "      filter: drop-shadow(0px 1px 2px rgba(0, 0, 0, 0.3));\n",
              "      fill: #FFFFFF;\n",
              "    }\n",
              "  </style>\n",
              "\n",
              "      <script>\n",
              "        const buttonEl =\n",
              "          document.querySelector('#df-398c2724-1fca-41ab-b222-e66f8facea1f button.colab-df-convert');\n",
              "        buttonEl.style.display =\n",
              "          google.colab.kernel.accessAllowed ? 'block' : 'none';\n",
              "\n",
              "        async function convertToInteractive(key) {\n",
              "          const element = document.querySelector('#df-398c2724-1fca-41ab-b222-e66f8facea1f');\n",
              "          const dataTable =\n",
              "            await google.colab.kernel.invokeFunction('convertToInteractive',\n",
              "                                                     [key], {});\n",
              "          if (!dataTable) return;\n",
              "\n",
              "          const docLinkHtml = 'Like what you see? Visit the ' +\n",
              "            '<a target=\"_blank\" href=https://colab.research.google.com/notebooks/data_table.ipynb>data table notebook</a>'\n",
              "            + ' to learn more about interactive tables.';\n",
              "          element.innerHTML = '';\n",
              "          dataTable['output_type'] = 'display_data';\n",
              "          await google.colab.output.renderOutput(dataTable, element);\n",
              "          const docLink = document.createElement('div');\n",
              "          docLink.innerHTML = docLinkHtml;\n",
              "          element.appendChild(docLink);\n",
              "        }\n",
              "      </script>\n",
              "    </div>\n",
              "  </div>\n",
              "  "
            ]
          },
          "metadata": {},
          "execution_count": 3
        }
      ]
    },
    {
      "cell_type": "markdown",
      "source": [
        "### Understand the attributes and dataset\n",
        "\n",
        "\n",
        "1.   Check for datatype of different attributes\n",
        "2.   list if any missing values in the dataset.\n",
        "3.   list any unwanted entries in the attributes(e.g. special characters in numerical fields)\n",
        "4.   Look for data volume( no.of columns and rows)\n",
        "5.   Look for cardinality of each column.\n",
        "\n"
      ],
      "metadata": {
        "id": "FKgDoa3crhpZ"
      }
    },
    {
      "cell_type": "code",
      "source": [
        "#Solution 1\n",
        "leetcode_dataset.shape"
      ],
      "metadata": {
        "id": "hpb9vy-zKWDv",
        "colab": {
          "base_uri": "https://localhost:8080/"
        },
        "outputId": "59bfdcb0-a035-4ee3-b886-1e1718603629"
      },
      "execution_count": null,
      "outputs": [
        {
          "output_type": "execute_result",
          "data": {
            "text/plain": [
              "(1825, 19)"
            ]
          },
          "metadata": {},
          "execution_count": 4
        }
      ]
    },
    {
      "cell_type": "code",
      "source": [
        "#Solution 2\n",
        "# use the DataFrame .info() method to check out data types, missing values\n",
        "leetcode_dataset.info()"
      ],
      "metadata": {
        "colab": {
          "base_uri": "https://localhost:8080/"
        },
        "id": "iXpzAp2ZqdXr",
        "outputId": "6a66ee1e-13f5-4fed-c94b-5aece5d848d7"
      },
      "execution_count": null,
      "outputs": [
        {
          "output_type": "stream",
          "name": "stdout",
          "text": [
            "<class 'pandas.core.frame.DataFrame'>\n",
            "RangeIndex: 1825 entries, 0 to 1824\n",
            "Data columns (total 19 columns):\n",
            " #   Column             Non-Null Count  Dtype  \n",
            "---  ------             --------------  -----  \n",
            " 0   id                 1825 non-null   int64  \n",
            " 1   title              1825 non-null   object \n",
            " 2   description        1825 non-null   object \n",
            " 3   is_premium         1825 non-null   int64  \n",
            " 4   difficulty         1825 non-null   object \n",
            " 5   solution_link      987 non-null    object \n",
            " 6   acceptance_rate    1825 non-null   float64\n",
            " 7   frequency          1825 non-null   float64\n",
            " 8   url                1825 non-null   object \n",
            " 9   discuss_count      1825 non-null   int64  \n",
            " 10  accepted           1825 non-null   object \n",
            " 11  submissions        1825 non-null   object \n",
            " 12  companies          1749 non-null   object \n",
            " 13  related_topics     1571 non-null   object \n",
            " 14  likes              1825 non-null   int64  \n",
            " 15  dislikes           1825 non-null   int64  \n",
            " 16  rating             1825 non-null   int64  \n",
            " 17  asked_by_faang     1825 non-null   int64  \n",
            " 18  similar_questions  745 non-null    object \n",
            "dtypes: float64(2), int64(7), object(10)\n",
            "memory usage: 271.0+ KB\n"
          ]
        }
      ]
    },
    {
      "cell_type": "code",
      "source": [
        "#Solution 3\n",
        "#number of missing values corresponding to each field\n",
        "leetcode_dataset.isnull().sum()"
      ],
      "metadata": {
        "colab": {
          "base_uri": "https://localhost:8080/"
        },
        "id": "VDfRvvk5jFMa",
        "outputId": "368b1140-fca1-4dc9-d10f-6a4198f3ae7b"
      },
      "execution_count": null,
      "outputs": [
        {
          "output_type": "execute_result",
          "data": {
            "text/plain": [
              "id                      0\n",
              "title                   0\n",
              "description             0\n",
              "is_premium              0\n",
              "difficulty              0\n",
              "solution_link         838\n",
              "acceptance_rate         0\n",
              "frequency               0\n",
              "url                     0\n",
              "discuss_count           0\n",
              "accepted                0\n",
              "submissions             0\n",
              "companies              76\n",
              "related_topics        254\n",
              "likes                   0\n",
              "dislikes                0\n",
              "rating                  0\n",
              "asked_by_faang          0\n",
              "similar_questions    1080\n",
              "dtype: int64"
            ]
          },
          "metadata": {},
          "execution_count": 7
        }
      ]
    },
    {
      "cell_type": "code",
      "source": [
        "import numpy as  np\n",
        "\n",
        "leetcode_dataset['discuss_count_null'] = leetcode_dataset['discuss_count']\n",
        "\n",
        "leetcode_dataset1 = leetcode_dataset.sample(frac = 0.1)\n",
        "leetcode_dataset2 = leetcode_dataset.sample(frac = 0.9)\n",
        "\n",
        "leetcode_dataset1['discuss_count_null'] = np.nan\n",
        "leetcode_dataset3 = leetcode_dataset1.append(leetcode_dataset2)"
      ],
      "metadata": {
        "colab": {
          "base_uri": "https://localhost:8080/"
        },
        "id": "ORmtqZimWGuO",
        "outputId": "18eab94a-fbf9-4a7b-ade8-94f99e23650a"
      },
      "execution_count": null,
      "outputs": [
        {
          "output_type": "stream",
          "name": "stderr",
          "text": [
            "<ipython-input-19-84b56185eaa0>:9: FutureWarning: The frame.append method is deprecated and will be removed from pandas in a future version. Use pandas.concat instead.\n",
            "  leetcode_dataset3 = leetcode_dataset1.append(leetcode_dataset2)\n"
          ]
        }
      ]
    },
    {
      "cell_type": "code",
      "source": [
        "# deal with null values\n",
        "\n",
        "# 1 fill mean or median\n",
        "\n",
        "leetcode_dataset3['discuss_count_null_filled'] =  leetcode_dataset3['discuss_count_null']\n",
        "\n",
        "leetcode_dataset3['discuss_count_null_filled'] = leetcode_dataset3['discuss_count_null'].fillna(421.43)"
      ],
      "metadata": {
        "id": "Rdt5nE9kXMw-"
      },
      "execution_count": null,
      "outputs": []
    },
    {
      "cell_type": "code",
      "source": [
        "leetcode_dataset3['discuss_count_null_filled'].value_counts()"
      ],
      "metadata": {
        "colab": {
          "base_uri": "https://localhost:8080/"
        },
        "id": "8K8Ac9cfYzDC",
        "outputId": "ebc98e8b-870b-4772-e7f4-666ea2dfda97"
      },
      "execution_count": null,
      "outputs": [
        {
          "output_type": "execute_result",
          "data": {
            "text/plain": [
              "999.00    252\n",
              "421.43    182\n",
              "84.00      10\n",
              "62.00       9\n",
              "136.00      9\n",
              "         ... \n",
              "693.00      1\n",
              "516.00      1\n",
              "738.00      1\n",
              "546.00      1\n",
              "440.00      1\n",
              "Name: discuss_count_null_filled, Length: 625, dtype: int64"
            ]
          },
          "metadata": {},
          "execution_count": 22
        }
      ]
    },
    {
      "cell_type": "code",
      "source": [
        "#Solution 4\n",
        "# get cardinality of the columns\n",
        "leetcode_dataset.nunique()"
      ],
      "metadata": {
        "colab": {
          "base_uri": "https://localhost:8080/"
        },
        "id": "ud9u1Tmiygsj",
        "outputId": "d4cbc0b7-2467-47b1-a13e-4487e848e92b"
      },
      "execution_count": null,
      "outputs": [
        {
          "output_type": "execute_result",
          "data": {
            "text/plain": [
              "id                   1825\n",
              "title                1825\n",
              "description          1670\n",
              "is_premium              2\n",
              "difficulty              3\n",
              "solution_link         987\n",
              "acceptance_rate       576\n",
              "frequency             619\n",
              "url                  1825\n",
              "discuss_count         642\n",
              "accepted             1098\n",
              "submissions          1236\n",
              "companies             691\n",
              "related_topics        320\n",
              "likes                1161\n",
              "dislikes              603\n",
              "rating                 94\n",
              "asked_by_faang          2\n",
              "similar_questions     689\n",
              "dtype: int64"
            ]
          },
          "metadata": {},
          "execution_count": 10
        }
      ]
    },
    {
      "cell_type": "code",
      "source": [
        "leetcode_dataset.apply(pd.Series.nunique)"
      ],
      "metadata": {
        "colab": {
          "base_uri": "https://localhost:8080/"
        },
        "id": "niYsxO5Gy_3o",
        "outputId": "d2191ff2-da60-40c0-c168-f647cc7bcb97"
      },
      "execution_count": null,
      "outputs": [
        {
          "output_type": "execute_result",
          "data": {
            "text/plain": [
              "id                   1825\n",
              "title                1825\n",
              "description          1670\n",
              "is_premium              2\n",
              "difficulty              3\n",
              "solution_link         987\n",
              "acceptance_rate       576\n",
              "frequency             619\n",
              "url                  1825\n",
              "discuss_count         642\n",
              "accepted             1098\n",
              "submissions          1236\n",
              "companies             691\n",
              "related_topics        320\n",
              "likes                1161\n",
              "dislikes              603\n",
              "rating                 94\n",
              "asked_by_faang          2\n",
              "similar_questions     689\n",
              "dtype: int64"
            ]
          },
          "metadata": {},
          "execution_count": 11
        }
      ]
    },
    {
      "cell_type": "code",
      "source": [
        "#Solution 5\n",
        "# use the DataFrame .describe() method to check out summary statistics of numeric columns\n",
        "# describe() of pandas gives you a way to understand the statistical meaning of the data.\n",
        "leetcode_dataset.describe()"
      ],
      "metadata": {
        "colab": {
          "base_uri": "https://localhost:8080/",
          "height": 364
        },
        "id": "4DE2rPniw7M7",
        "outputId": "52d87e28-124b-4e57-de57-e9766453ea30"
      },
      "execution_count": null,
      "outputs": [
        {
          "output_type": "execute_result",
          "data": {
            "text/plain": [
              "                id   is_premium  acceptance_rate    frequency  discuss_count  \\\n",
              "count  1825.000000  1825.000000      1825.000000  1825.000000    1825.000000   \n",
              "mean    913.000000     0.218082        53.139616    21.113041     421.435068   \n",
              "std     526.976438     0.413057        14.778411    22.364741     330.583617   \n",
              "min       1.000000     0.000000        13.900000     0.000000       9.000000   \n",
              "25%     457.000000     0.000000        42.400000     3.100000     150.000000   \n",
              "50%     913.000000     0.000000        51.600000    13.500000     292.000000   \n",
              "75%    1369.000000     0.000000        62.800000    31.800000     663.000000   \n",
              "max    1825.000000     1.000000        95.600000   100.000000     999.000000   \n",
              "\n",
              "              likes     dislikes       rating  asked_by_faang  \n",
              "count   1825.000000  1825.000000  1825.000000     1825.000000  \n",
              "mean    1050.534795   279.010959    77.391233        0.671233  \n",
              "std     1512.674013   608.489206    23.317515        0.469894  \n",
              "min        2.000000     0.000000     7.000000        0.000000  \n",
              "25%      217.000000    32.000000    67.000000        0.000000  \n",
              "50%      516.000000    92.000000    88.000000        1.000000  \n",
              "75%     1200.000000   239.000000    95.000000        1.000000  \n",
              "max    20217.000000  8900.000000   100.000000        1.000000  "
            ],
            "text/html": [
              "\n",
              "  <div id=\"df-c6767f87-f559-4867-ab51-57e512c20aa2\">\n",
              "    <div class=\"colab-df-container\">\n",
              "      <div>\n",
              "<style scoped>\n",
              "    .dataframe tbody tr th:only-of-type {\n",
              "        vertical-align: middle;\n",
              "    }\n",
              "\n",
              "    .dataframe tbody tr th {\n",
              "        vertical-align: top;\n",
              "    }\n",
              "\n",
              "    .dataframe thead th {\n",
              "        text-align: right;\n",
              "    }\n",
              "</style>\n",
              "<table border=\"1\" class=\"dataframe\">\n",
              "  <thead>\n",
              "    <tr style=\"text-align: right;\">\n",
              "      <th></th>\n",
              "      <th>id</th>\n",
              "      <th>is_premium</th>\n",
              "      <th>acceptance_rate</th>\n",
              "      <th>frequency</th>\n",
              "      <th>discuss_count</th>\n",
              "      <th>likes</th>\n",
              "      <th>dislikes</th>\n",
              "      <th>rating</th>\n",
              "      <th>asked_by_faang</th>\n",
              "    </tr>\n",
              "  </thead>\n",
              "  <tbody>\n",
              "    <tr>\n",
              "      <th>count</th>\n",
              "      <td>1825.000000</td>\n",
              "      <td>1825.000000</td>\n",
              "      <td>1825.000000</td>\n",
              "      <td>1825.000000</td>\n",
              "      <td>1825.000000</td>\n",
              "      <td>1825.000000</td>\n",
              "      <td>1825.000000</td>\n",
              "      <td>1825.000000</td>\n",
              "      <td>1825.000000</td>\n",
              "    </tr>\n",
              "    <tr>\n",
              "      <th>mean</th>\n",
              "      <td>913.000000</td>\n",
              "      <td>0.218082</td>\n",
              "      <td>53.139616</td>\n",
              "      <td>21.113041</td>\n",
              "      <td>421.435068</td>\n",
              "      <td>1050.534795</td>\n",
              "      <td>279.010959</td>\n",
              "      <td>77.391233</td>\n",
              "      <td>0.671233</td>\n",
              "    </tr>\n",
              "    <tr>\n",
              "      <th>std</th>\n",
              "      <td>526.976438</td>\n",
              "      <td>0.413057</td>\n",
              "      <td>14.778411</td>\n",
              "      <td>22.364741</td>\n",
              "      <td>330.583617</td>\n",
              "      <td>1512.674013</td>\n",
              "      <td>608.489206</td>\n",
              "      <td>23.317515</td>\n",
              "      <td>0.469894</td>\n",
              "    </tr>\n",
              "    <tr>\n",
              "      <th>min</th>\n",
              "      <td>1.000000</td>\n",
              "      <td>0.000000</td>\n",
              "      <td>13.900000</td>\n",
              "      <td>0.000000</td>\n",
              "      <td>9.000000</td>\n",
              "      <td>2.000000</td>\n",
              "      <td>0.000000</td>\n",
              "      <td>7.000000</td>\n",
              "      <td>0.000000</td>\n",
              "    </tr>\n",
              "    <tr>\n",
              "      <th>25%</th>\n",
              "      <td>457.000000</td>\n",
              "      <td>0.000000</td>\n",
              "      <td>42.400000</td>\n",
              "      <td>3.100000</td>\n",
              "      <td>150.000000</td>\n",
              "      <td>217.000000</td>\n",
              "      <td>32.000000</td>\n",
              "      <td>67.000000</td>\n",
              "      <td>0.000000</td>\n",
              "    </tr>\n",
              "    <tr>\n",
              "      <th>50%</th>\n",
              "      <td>913.000000</td>\n",
              "      <td>0.000000</td>\n",
              "      <td>51.600000</td>\n",
              "      <td>13.500000</td>\n",
              "      <td>292.000000</td>\n",
              "      <td>516.000000</td>\n",
              "      <td>92.000000</td>\n",
              "      <td>88.000000</td>\n",
              "      <td>1.000000</td>\n",
              "    </tr>\n",
              "    <tr>\n",
              "      <th>75%</th>\n",
              "      <td>1369.000000</td>\n",
              "      <td>0.000000</td>\n",
              "      <td>62.800000</td>\n",
              "      <td>31.800000</td>\n",
              "      <td>663.000000</td>\n",
              "      <td>1200.000000</td>\n",
              "      <td>239.000000</td>\n",
              "      <td>95.000000</td>\n",
              "      <td>1.000000</td>\n",
              "    </tr>\n",
              "    <tr>\n",
              "      <th>max</th>\n",
              "      <td>1825.000000</td>\n",
              "      <td>1.000000</td>\n",
              "      <td>95.600000</td>\n",
              "      <td>100.000000</td>\n",
              "      <td>999.000000</td>\n",
              "      <td>20217.000000</td>\n",
              "      <td>8900.000000</td>\n",
              "      <td>100.000000</td>\n",
              "      <td>1.000000</td>\n",
              "    </tr>\n",
              "  </tbody>\n",
              "</table>\n",
              "</div>\n",
              "      <button class=\"colab-df-convert\" onclick=\"convertToInteractive('df-c6767f87-f559-4867-ab51-57e512c20aa2')\"\n",
              "              title=\"Convert this dataframe to an interactive table.\"\n",
              "              style=\"display:none;\">\n",
              "        \n",
              "  <svg xmlns=\"http://www.w3.org/2000/svg\" height=\"24px\"viewBox=\"0 0 24 24\"\n",
              "       width=\"24px\">\n",
              "    <path d=\"M0 0h24v24H0V0z\" fill=\"none\"/>\n",
              "    <path d=\"M18.56 5.44l.94 2.06.94-2.06 2.06-.94-2.06-.94-.94-2.06-.94 2.06-2.06.94zm-11 1L8.5 8.5l.94-2.06 2.06-.94-2.06-.94L8.5 2.5l-.94 2.06-2.06.94zm10 10l.94 2.06.94-2.06 2.06-.94-2.06-.94-.94-2.06-.94 2.06-2.06.94z\"/><path d=\"M17.41 7.96l-1.37-1.37c-.4-.4-.92-.59-1.43-.59-.52 0-1.04.2-1.43.59L10.3 9.45l-7.72 7.72c-.78.78-.78 2.05 0 2.83L4 21.41c.39.39.9.59 1.41.59.51 0 1.02-.2 1.41-.59l7.78-7.78 2.81-2.81c.8-.78.8-2.07 0-2.86zM5.41 20L4 18.59l7.72-7.72 1.47 1.35L5.41 20z\"/>\n",
              "  </svg>\n",
              "      </button>\n",
              "      \n",
              "  <style>\n",
              "    .colab-df-container {\n",
              "      display:flex;\n",
              "      flex-wrap:wrap;\n",
              "      gap: 12px;\n",
              "    }\n",
              "\n",
              "    .colab-df-convert {\n",
              "      background-color: #E8F0FE;\n",
              "      border: none;\n",
              "      border-radius: 50%;\n",
              "      cursor: pointer;\n",
              "      display: none;\n",
              "      fill: #1967D2;\n",
              "      height: 32px;\n",
              "      padding: 0 0 0 0;\n",
              "      width: 32px;\n",
              "    }\n",
              "\n",
              "    .colab-df-convert:hover {\n",
              "      background-color: #E2EBFA;\n",
              "      box-shadow: 0px 1px 2px rgba(60, 64, 67, 0.3), 0px 1px 3px 1px rgba(60, 64, 67, 0.15);\n",
              "      fill: #174EA6;\n",
              "    }\n",
              "\n",
              "    [theme=dark] .colab-df-convert {\n",
              "      background-color: #3B4455;\n",
              "      fill: #D2E3FC;\n",
              "    }\n",
              "\n",
              "    [theme=dark] .colab-df-convert:hover {\n",
              "      background-color: #434B5C;\n",
              "      box-shadow: 0px 1px 3px 1px rgba(0, 0, 0, 0.15);\n",
              "      filter: drop-shadow(0px 1px 2px rgba(0, 0, 0, 0.3));\n",
              "      fill: #FFFFFF;\n",
              "    }\n",
              "  </style>\n",
              "\n",
              "      <script>\n",
              "        const buttonEl =\n",
              "          document.querySelector('#df-c6767f87-f559-4867-ab51-57e512c20aa2 button.colab-df-convert');\n",
              "        buttonEl.style.display =\n",
              "          google.colab.kernel.accessAllowed ? 'block' : 'none';\n",
              "\n",
              "        async function convertToInteractive(key) {\n",
              "          const element = document.querySelector('#df-c6767f87-f559-4867-ab51-57e512c20aa2');\n",
              "          const dataTable =\n",
              "            await google.colab.kernel.invokeFunction('convertToInteractive',\n",
              "                                                     [key], {});\n",
              "          if (!dataTable) return;\n",
              "\n",
              "          const docLinkHtml = 'Like what you see? Visit the ' +\n",
              "            '<a target=\"_blank\" href=https://colab.research.google.com/notebooks/data_table.ipynb>data table notebook</a>'\n",
              "            + ' to learn more about interactive tables.';\n",
              "          element.innerHTML = '';\n",
              "          dataTable['output_type'] = 'display_data';\n",
              "          await google.colab.output.renderOutput(dataTable, element);\n",
              "          const docLink = document.createElement('div');\n",
              "          docLink.innerHTML = docLinkHtml;\n",
              "          element.appendChild(docLink);\n",
              "        }\n",
              "      </script>\n",
              "    </div>\n",
              "  </div>\n",
              "  "
            ]
          },
          "metadata": {},
          "execution_count": 5
        }
      ]
    },
    {
      "cell_type": "code",
      "source": [
        "leetcode_dataset.likes.describe()"
      ],
      "metadata": {
        "colab": {
          "base_uri": "https://localhost:8080/"
        },
        "id": "ZCXjKV9lVbxt",
        "outputId": "fd95d4fa-0fe9-46b1-da31-c71ed8440046"
      },
      "execution_count": null,
      "outputs": [
        {
          "output_type": "execute_result",
          "data": {
            "text/plain": [
              "count     1825.000000\n",
              "mean      1050.534795\n",
              "std       1512.674013\n",
              "min          2.000000\n",
              "25%        217.000000\n",
              "50%        516.000000\n",
              "75%       1200.000000\n",
              "max      20217.000000\n",
              "Name: likes, dtype: float64"
            ]
          },
          "metadata": {},
          "execution_count": 6
        }
      ]
    },
    {
      "cell_type": "code",
      "source": [
        "# use the DataFrame .describe(include='all') method to check out summary statistics of all columns\n",
        "leetcode_dataset.describe(include='all')"
      ],
      "metadata": {
        "colab": {
          "base_uri": "https://localhost:8080/",
          "height": 493
        },
        "id": "P803jjrQxTY_",
        "outputId": "0151945a-2a96-483b-bf01-1f53b5738828"
      },
      "execution_count": null,
      "outputs": [
        {
          "output_type": "execute_result",
          "data": {
            "text/plain": [
              "                 id    title description   is_premium difficulty  \\\n",
              "count   1825.000000     1825        1825  1825.000000       1825   \n",
              "unique          NaN     1825        1670          NaN          3   \n",
              "top             NaN  Two Sum  SQL Schema          NaN     Medium   \n",
              "freq            NaN        1         156          NaN        963   \n",
              "mean     913.000000      NaN         NaN     0.218082        NaN   \n",
              "std      526.976438      NaN         NaN     0.413057        NaN   \n",
              "min        1.000000      NaN         NaN     0.000000        NaN   \n",
              "25%      457.000000      NaN         NaN     0.000000        NaN   \n",
              "50%      913.000000      NaN         NaN     0.000000        NaN   \n",
              "75%     1369.000000      NaN         NaN     0.000000        NaN   \n",
              "max     1825.000000      NaN         NaN     1.000000        NaN   \n",
              "\n",
              "            solution_link  acceptance_rate    frequency  \\\n",
              "count                 987      1825.000000  1825.000000   \n",
              "unique                987              NaN          NaN   \n",
              "top     /articles/two-sum              NaN          NaN   \n",
              "freq                    1              NaN          NaN   \n",
              "mean                  NaN        53.139616    21.113041   \n",
              "std                   NaN        14.778411    22.364741   \n",
              "min                   NaN        13.900000     0.000000   \n",
              "25%                   NaN        42.400000     3.100000   \n",
              "50%                   NaN        51.600000    13.500000   \n",
              "75%                   NaN        62.800000    31.800000   \n",
              "max                   NaN        95.600000   100.000000   \n",
              "\n",
              "                                          url  discuss_count accepted  \\\n",
              "count                                    1825    1825.000000     1825   \n",
              "unique                                   1825            NaN     1098   \n",
              "top     https://leetcode.com/problems/two-sum            NaN     2.1K   \n",
              "freq                                        1            NaN        8   \n",
              "mean                                      NaN     421.435068      NaN   \n",
              "std                                       NaN     330.583617      NaN   \n",
              "min                                       NaN       9.000000      NaN   \n",
              "25%                                       NaN     150.000000      NaN   \n",
              "50%                                       NaN     292.000000      NaN   \n",
              "75%                                       NaN     663.000000      NaN   \n",
              "max                                       NaN     999.000000      NaN   \n",
              "\n",
              "       submissions companies related_topics         likes     dislikes  \\\n",
              "count         1825      1749           1571   1825.000000  1825.000000   \n",
              "unique        1236       691            320           NaN          NaN   \n",
              "top           1.2M    Google          Array           NaN          NaN   \n",
              "freq            16       257            134           NaN          NaN   \n",
              "mean           NaN       NaN            NaN   1050.534795   279.010959   \n",
              "std            NaN       NaN            NaN   1512.674013   608.489206   \n",
              "min            NaN       NaN            NaN      2.000000     0.000000   \n",
              "25%            NaN       NaN            NaN    217.000000    32.000000   \n",
              "50%            NaN       NaN            NaN    516.000000    92.000000   \n",
              "75%            NaN       NaN            NaN   1200.000000   239.000000   \n",
              "max            NaN       NaN            NaN  20217.000000  8900.000000   \n",
              "\n",
              "             rating  asked_by_faang  \\\n",
              "count   1825.000000     1825.000000   \n",
              "unique          NaN             NaN   \n",
              "top             NaN             NaN   \n",
              "freq            NaN             NaN   \n",
              "mean      77.391233        0.671233   \n",
              "std       23.317515        0.469894   \n",
              "min        7.000000        0.000000   \n",
              "25%       67.000000        0.000000   \n",
              "50%       88.000000        1.000000   \n",
              "75%       95.000000        1.000000   \n",
              "max      100.000000        1.000000   \n",
              "\n",
              "                                        similar_questions  \n",
              "count                                                 745  \n",
              "unique                                                689  \n",
              "top     [Stone Game V, /problems/stone-game-v/, Hard],...  \n",
              "freq                                                    4  \n",
              "mean                                                  NaN  \n",
              "std                                                   NaN  \n",
              "min                                                   NaN  \n",
              "25%                                                   NaN  \n",
              "50%                                                   NaN  \n",
              "75%                                                   NaN  \n",
              "max                                                   NaN  "
            ],
            "text/html": [
              "\n",
              "  <div id=\"df-eb829da6-5dcc-414f-a084-1fa4f828a8f7\">\n",
              "    <div class=\"colab-df-container\">\n",
              "      <div>\n",
              "<style scoped>\n",
              "    .dataframe tbody tr th:only-of-type {\n",
              "        vertical-align: middle;\n",
              "    }\n",
              "\n",
              "    .dataframe tbody tr th {\n",
              "        vertical-align: top;\n",
              "    }\n",
              "\n",
              "    .dataframe thead th {\n",
              "        text-align: right;\n",
              "    }\n",
              "</style>\n",
              "<table border=\"1\" class=\"dataframe\">\n",
              "  <thead>\n",
              "    <tr style=\"text-align: right;\">\n",
              "      <th></th>\n",
              "      <th>id</th>\n",
              "      <th>title</th>\n",
              "      <th>description</th>\n",
              "      <th>is_premium</th>\n",
              "      <th>difficulty</th>\n",
              "      <th>solution_link</th>\n",
              "      <th>acceptance_rate</th>\n",
              "      <th>frequency</th>\n",
              "      <th>url</th>\n",
              "      <th>discuss_count</th>\n",
              "      <th>accepted</th>\n",
              "      <th>submissions</th>\n",
              "      <th>companies</th>\n",
              "      <th>related_topics</th>\n",
              "      <th>likes</th>\n",
              "      <th>dislikes</th>\n",
              "      <th>rating</th>\n",
              "      <th>asked_by_faang</th>\n",
              "      <th>similar_questions</th>\n",
              "    </tr>\n",
              "  </thead>\n",
              "  <tbody>\n",
              "    <tr>\n",
              "      <th>count</th>\n",
              "      <td>1825.000000</td>\n",
              "      <td>1825</td>\n",
              "      <td>1825</td>\n",
              "      <td>1825.000000</td>\n",
              "      <td>1825</td>\n",
              "      <td>987</td>\n",
              "      <td>1825.000000</td>\n",
              "      <td>1825.000000</td>\n",
              "      <td>1825</td>\n",
              "      <td>1825.000000</td>\n",
              "      <td>1825</td>\n",
              "      <td>1825</td>\n",
              "      <td>1749</td>\n",
              "      <td>1571</td>\n",
              "      <td>1825.000000</td>\n",
              "      <td>1825.000000</td>\n",
              "      <td>1825.000000</td>\n",
              "      <td>1825.000000</td>\n",
              "      <td>745</td>\n",
              "    </tr>\n",
              "    <tr>\n",
              "      <th>unique</th>\n",
              "      <td>NaN</td>\n",
              "      <td>1825</td>\n",
              "      <td>1670</td>\n",
              "      <td>NaN</td>\n",
              "      <td>3</td>\n",
              "      <td>987</td>\n",
              "      <td>NaN</td>\n",
              "      <td>NaN</td>\n",
              "      <td>1825</td>\n",
              "      <td>NaN</td>\n",
              "      <td>1098</td>\n",
              "      <td>1236</td>\n",
              "      <td>691</td>\n",
              "      <td>320</td>\n",
              "      <td>NaN</td>\n",
              "      <td>NaN</td>\n",
              "      <td>NaN</td>\n",
              "      <td>NaN</td>\n",
              "      <td>689</td>\n",
              "    </tr>\n",
              "    <tr>\n",
              "      <th>top</th>\n",
              "      <td>NaN</td>\n",
              "      <td>Two Sum</td>\n",
              "      <td>SQL Schema</td>\n",
              "      <td>NaN</td>\n",
              "      <td>Medium</td>\n",
              "      <td>/articles/two-sum</td>\n",
              "      <td>NaN</td>\n",
              "      <td>NaN</td>\n",
              "      <td>https://leetcode.com/problems/two-sum</td>\n",
              "      <td>NaN</td>\n",
              "      <td>2.1K</td>\n",
              "      <td>1.2M</td>\n",
              "      <td>Google</td>\n",
              "      <td>Array</td>\n",
              "      <td>NaN</td>\n",
              "      <td>NaN</td>\n",
              "      <td>NaN</td>\n",
              "      <td>NaN</td>\n",
              "      <td>[Stone Game V, /problems/stone-game-v/, Hard],...</td>\n",
              "    </tr>\n",
              "    <tr>\n",
              "      <th>freq</th>\n",
              "      <td>NaN</td>\n",
              "      <td>1</td>\n",
              "      <td>156</td>\n",
              "      <td>NaN</td>\n",
              "      <td>963</td>\n",
              "      <td>1</td>\n",
              "      <td>NaN</td>\n",
              "      <td>NaN</td>\n",
              "      <td>1</td>\n",
              "      <td>NaN</td>\n",
              "      <td>8</td>\n",
              "      <td>16</td>\n",
              "      <td>257</td>\n",
              "      <td>134</td>\n",
              "      <td>NaN</td>\n",
              "      <td>NaN</td>\n",
              "      <td>NaN</td>\n",
              "      <td>NaN</td>\n",
              "      <td>4</td>\n",
              "    </tr>\n",
              "    <tr>\n",
              "      <th>mean</th>\n",
              "      <td>913.000000</td>\n",
              "      <td>NaN</td>\n",
              "      <td>NaN</td>\n",
              "      <td>0.218082</td>\n",
              "      <td>NaN</td>\n",
              "      <td>NaN</td>\n",
              "      <td>53.139616</td>\n",
              "      <td>21.113041</td>\n",
              "      <td>NaN</td>\n",
              "      <td>421.435068</td>\n",
              "      <td>NaN</td>\n",
              "      <td>NaN</td>\n",
              "      <td>NaN</td>\n",
              "      <td>NaN</td>\n",
              "      <td>1050.534795</td>\n",
              "      <td>279.010959</td>\n",
              "      <td>77.391233</td>\n",
              "      <td>0.671233</td>\n",
              "      <td>NaN</td>\n",
              "    </tr>\n",
              "    <tr>\n",
              "      <th>std</th>\n",
              "      <td>526.976438</td>\n",
              "      <td>NaN</td>\n",
              "      <td>NaN</td>\n",
              "      <td>0.413057</td>\n",
              "      <td>NaN</td>\n",
              "      <td>NaN</td>\n",
              "      <td>14.778411</td>\n",
              "      <td>22.364741</td>\n",
              "      <td>NaN</td>\n",
              "      <td>330.583617</td>\n",
              "      <td>NaN</td>\n",
              "      <td>NaN</td>\n",
              "      <td>NaN</td>\n",
              "      <td>NaN</td>\n",
              "      <td>1512.674013</td>\n",
              "      <td>608.489206</td>\n",
              "      <td>23.317515</td>\n",
              "      <td>0.469894</td>\n",
              "      <td>NaN</td>\n",
              "    </tr>\n",
              "    <tr>\n",
              "      <th>min</th>\n",
              "      <td>1.000000</td>\n",
              "      <td>NaN</td>\n",
              "      <td>NaN</td>\n",
              "      <td>0.000000</td>\n",
              "      <td>NaN</td>\n",
              "      <td>NaN</td>\n",
              "      <td>13.900000</td>\n",
              "      <td>0.000000</td>\n",
              "      <td>NaN</td>\n",
              "      <td>9.000000</td>\n",
              "      <td>NaN</td>\n",
              "      <td>NaN</td>\n",
              "      <td>NaN</td>\n",
              "      <td>NaN</td>\n",
              "      <td>2.000000</td>\n",
              "      <td>0.000000</td>\n",
              "      <td>7.000000</td>\n",
              "      <td>0.000000</td>\n",
              "      <td>NaN</td>\n",
              "    </tr>\n",
              "    <tr>\n",
              "      <th>25%</th>\n",
              "      <td>457.000000</td>\n",
              "      <td>NaN</td>\n",
              "      <td>NaN</td>\n",
              "      <td>0.000000</td>\n",
              "      <td>NaN</td>\n",
              "      <td>NaN</td>\n",
              "      <td>42.400000</td>\n",
              "      <td>3.100000</td>\n",
              "      <td>NaN</td>\n",
              "      <td>150.000000</td>\n",
              "      <td>NaN</td>\n",
              "      <td>NaN</td>\n",
              "      <td>NaN</td>\n",
              "      <td>NaN</td>\n",
              "      <td>217.000000</td>\n",
              "      <td>32.000000</td>\n",
              "      <td>67.000000</td>\n",
              "      <td>0.000000</td>\n",
              "      <td>NaN</td>\n",
              "    </tr>\n",
              "    <tr>\n",
              "      <th>50%</th>\n",
              "      <td>913.000000</td>\n",
              "      <td>NaN</td>\n",
              "      <td>NaN</td>\n",
              "      <td>0.000000</td>\n",
              "      <td>NaN</td>\n",
              "      <td>NaN</td>\n",
              "      <td>51.600000</td>\n",
              "      <td>13.500000</td>\n",
              "      <td>NaN</td>\n",
              "      <td>292.000000</td>\n",
              "      <td>NaN</td>\n",
              "      <td>NaN</td>\n",
              "      <td>NaN</td>\n",
              "      <td>NaN</td>\n",
              "      <td>516.000000</td>\n",
              "      <td>92.000000</td>\n",
              "      <td>88.000000</td>\n",
              "      <td>1.000000</td>\n",
              "      <td>NaN</td>\n",
              "    </tr>\n",
              "    <tr>\n",
              "      <th>75%</th>\n",
              "      <td>1369.000000</td>\n",
              "      <td>NaN</td>\n",
              "      <td>NaN</td>\n",
              "      <td>0.000000</td>\n",
              "      <td>NaN</td>\n",
              "      <td>NaN</td>\n",
              "      <td>62.800000</td>\n",
              "      <td>31.800000</td>\n",
              "      <td>NaN</td>\n",
              "      <td>663.000000</td>\n",
              "      <td>NaN</td>\n",
              "      <td>NaN</td>\n",
              "      <td>NaN</td>\n",
              "      <td>NaN</td>\n",
              "      <td>1200.000000</td>\n",
              "      <td>239.000000</td>\n",
              "      <td>95.000000</td>\n",
              "      <td>1.000000</td>\n",
              "      <td>NaN</td>\n",
              "    </tr>\n",
              "    <tr>\n",
              "      <th>max</th>\n",
              "      <td>1825.000000</td>\n",
              "      <td>NaN</td>\n",
              "      <td>NaN</td>\n",
              "      <td>1.000000</td>\n",
              "      <td>NaN</td>\n",
              "      <td>NaN</td>\n",
              "      <td>95.600000</td>\n",
              "      <td>100.000000</td>\n",
              "      <td>NaN</td>\n",
              "      <td>999.000000</td>\n",
              "      <td>NaN</td>\n",
              "      <td>NaN</td>\n",
              "      <td>NaN</td>\n",
              "      <td>NaN</td>\n",
              "      <td>20217.000000</td>\n",
              "      <td>8900.000000</td>\n",
              "      <td>100.000000</td>\n",
              "      <td>1.000000</td>\n",
              "      <td>NaN</td>\n",
              "    </tr>\n",
              "  </tbody>\n",
              "</table>\n",
              "</div>\n",
              "      <button class=\"colab-df-convert\" onclick=\"convertToInteractive('df-eb829da6-5dcc-414f-a084-1fa4f828a8f7')\"\n",
              "              title=\"Convert this dataframe to an interactive table.\"\n",
              "              style=\"display:none;\">\n",
              "        \n",
              "  <svg xmlns=\"http://www.w3.org/2000/svg\" height=\"24px\"viewBox=\"0 0 24 24\"\n",
              "       width=\"24px\">\n",
              "    <path d=\"M0 0h24v24H0V0z\" fill=\"none\"/>\n",
              "    <path d=\"M18.56 5.44l.94 2.06.94-2.06 2.06-.94-2.06-.94-.94-2.06-.94 2.06-2.06.94zm-11 1L8.5 8.5l.94-2.06 2.06-.94-2.06-.94L8.5 2.5l-.94 2.06-2.06.94zm10 10l.94 2.06.94-2.06 2.06-.94-2.06-.94-.94-2.06-.94 2.06-2.06.94z\"/><path d=\"M17.41 7.96l-1.37-1.37c-.4-.4-.92-.59-1.43-.59-.52 0-1.04.2-1.43.59L10.3 9.45l-7.72 7.72c-.78.78-.78 2.05 0 2.83L4 21.41c.39.39.9.59 1.41.59.51 0 1.02-.2 1.41-.59l7.78-7.78 2.81-2.81c.8-.78.8-2.07 0-2.86zM5.41 20L4 18.59l7.72-7.72 1.47 1.35L5.41 20z\"/>\n",
              "  </svg>\n",
              "      </button>\n",
              "      \n",
              "  <style>\n",
              "    .colab-df-container {\n",
              "      display:flex;\n",
              "      flex-wrap:wrap;\n",
              "      gap: 12px;\n",
              "    }\n",
              "\n",
              "    .colab-df-convert {\n",
              "      background-color: #E8F0FE;\n",
              "      border: none;\n",
              "      border-radius: 50%;\n",
              "      cursor: pointer;\n",
              "      display: none;\n",
              "      fill: #1967D2;\n",
              "      height: 32px;\n",
              "      padding: 0 0 0 0;\n",
              "      width: 32px;\n",
              "    }\n",
              "\n",
              "    .colab-df-convert:hover {\n",
              "      background-color: #E2EBFA;\n",
              "      box-shadow: 0px 1px 2px rgba(60, 64, 67, 0.3), 0px 1px 3px 1px rgba(60, 64, 67, 0.15);\n",
              "      fill: #174EA6;\n",
              "    }\n",
              "\n",
              "    [theme=dark] .colab-df-convert {\n",
              "      background-color: #3B4455;\n",
              "      fill: #D2E3FC;\n",
              "    }\n",
              "\n",
              "    [theme=dark] .colab-df-convert:hover {\n",
              "      background-color: #434B5C;\n",
              "      box-shadow: 0px 1px 3px 1px rgba(0, 0, 0, 0.15);\n",
              "      filter: drop-shadow(0px 1px 2px rgba(0, 0, 0, 0.3));\n",
              "      fill: #FFFFFF;\n",
              "    }\n",
              "  </style>\n",
              "\n",
              "      <script>\n",
              "        const buttonEl =\n",
              "          document.querySelector('#df-eb829da6-5dcc-414f-a084-1fa4f828a8f7 button.colab-df-convert');\n",
              "        buttonEl.style.display =\n",
              "          google.colab.kernel.accessAllowed ? 'block' : 'none';\n",
              "\n",
              "        async function convertToInteractive(key) {\n",
              "          const element = document.querySelector('#df-eb829da6-5dcc-414f-a084-1fa4f828a8f7');\n",
              "          const dataTable =\n",
              "            await google.colab.kernel.invokeFunction('convertToInteractive',\n",
              "                                                     [key], {});\n",
              "          if (!dataTable) return;\n",
              "\n",
              "          const docLinkHtml = 'Like what you see? Visit the ' +\n",
              "            '<a target=\"_blank\" href=https://colab.research.google.com/notebooks/data_table.ipynb>data table notebook</a>'\n",
              "            + ' to learn more about interactive tables.';\n",
              "          element.innerHTML = '';\n",
              "          dataTable['output_type'] = 'display_data';\n",
              "          await google.colab.output.renderOutput(dataTable, element);\n",
              "          const docLink = document.createElement('div');\n",
              "          docLink.innerHTML = docLinkHtml;\n",
              "          element.appendChild(docLink);\n",
              "        }\n",
              "      </script>\n",
              "    </div>\n",
              "  </div>\n",
              "  "
            ]
          },
          "metadata": {},
          "execution_count": 7
        }
      ]
    },
    {
      "cell_type": "code",
      "source": [
        "# use the DataFrame .describe(percentiles=[0.1, 0.3, 0.7]) method to check out summary statistics at 10%,30% and &70% distribution\n",
        "leetcode_dataset.describe(percentiles=[0.1, 0.25, 0.75,0.9])"
      ],
      "metadata": {
        "colab": {
          "base_uri": "https://localhost:8080/",
          "height": 363
        },
        "id": "zS2pe1p2xuKX",
        "outputId": "1fc5ca4b-72d8-4355-962d-61488888dc5c"
      },
      "execution_count": null,
      "outputs": [
        {
          "output_type": "execute_result",
          "data": {
            "text/plain": [
              "                id   is_premium  acceptance_rate    frequency  discuss_count  \\\n",
              "count  1825.000000  1825.000000      1825.000000  1825.000000    1825.000000   \n",
              "mean    913.000000     0.218082        53.139616    21.113041     421.435068   \n",
              "std     526.976438     0.413057        14.778411    22.364741     330.583617   \n",
              "min       1.000000     0.000000        13.900000     0.000000       9.000000   \n",
              "10%     183.400000     0.000000        35.200000     0.000000      82.000000   \n",
              "25%     457.000000     0.000000        42.400000     3.100000     150.000000   \n",
              "50%     913.000000     0.000000        51.600000    13.500000     292.000000   \n",
              "75%    1369.000000     0.000000        62.800000    31.800000     663.000000   \n",
              "90%    1642.600000     1.000000        73.800000    55.460000     999.000000   \n",
              "max    1825.000000     1.000000        95.600000   100.000000     999.000000   \n",
              "\n",
              "              likes     dislikes       rating  asked_by_faang  \\\n",
              "count   1825.000000  1825.000000  1825.000000     1825.000000   \n",
              "mean    1050.534795   279.010959    77.391233        0.671233   \n",
              "std     1512.674013   608.489206    23.317515        0.469894   \n",
              "min        2.000000     0.000000     7.000000        0.000000   \n",
              "10%       89.400000    11.000000    36.000000        0.000000   \n",
              "25%      217.000000    32.000000    67.000000        0.000000   \n",
              "50%      516.000000    92.000000    88.000000        1.000000   \n",
              "75%     1200.000000   239.000000    95.000000        1.000000   \n",
              "90%     2726.600000   719.400000    97.000000        1.000000   \n",
              "max    20217.000000  8900.000000   100.000000        1.000000   \n",
              "\n",
              "       discuss_count_null  \n",
              "count         1825.000000  \n",
              "mean           421.435068  \n",
              "std            330.583617  \n",
              "min              9.000000  \n",
              "10%             82.000000  \n",
              "25%            150.000000  \n",
              "50%            292.000000  \n",
              "75%            663.000000  \n",
              "90%            999.000000  \n",
              "max            999.000000  "
            ],
            "text/html": [
              "\n",
              "  <div id=\"df-e5c35818-9bb6-427c-93d5-acfe4095c4ad\" class=\"colab-df-container\">\n",
              "    <div>\n",
              "<style scoped>\n",
              "    .dataframe tbody tr th:only-of-type {\n",
              "        vertical-align: middle;\n",
              "    }\n",
              "\n",
              "    .dataframe tbody tr th {\n",
              "        vertical-align: top;\n",
              "    }\n",
              "\n",
              "    .dataframe thead th {\n",
              "        text-align: right;\n",
              "    }\n",
              "</style>\n",
              "<table border=\"1\" class=\"dataframe\">\n",
              "  <thead>\n",
              "    <tr style=\"text-align: right;\">\n",
              "      <th></th>\n",
              "      <th>id</th>\n",
              "      <th>is_premium</th>\n",
              "      <th>acceptance_rate</th>\n",
              "      <th>frequency</th>\n",
              "      <th>discuss_count</th>\n",
              "      <th>likes</th>\n",
              "      <th>dislikes</th>\n",
              "      <th>rating</th>\n",
              "      <th>asked_by_faang</th>\n",
              "      <th>discuss_count_null</th>\n",
              "    </tr>\n",
              "  </thead>\n",
              "  <tbody>\n",
              "    <tr>\n",
              "      <th>count</th>\n",
              "      <td>1825.000000</td>\n",
              "      <td>1825.000000</td>\n",
              "      <td>1825.000000</td>\n",
              "      <td>1825.000000</td>\n",
              "      <td>1825.000000</td>\n",
              "      <td>1825.000000</td>\n",
              "      <td>1825.000000</td>\n",
              "      <td>1825.000000</td>\n",
              "      <td>1825.000000</td>\n",
              "      <td>1825.000000</td>\n",
              "    </tr>\n",
              "    <tr>\n",
              "      <th>mean</th>\n",
              "      <td>913.000000</td>\n",
              "      <td>0.218082</td>\n",
              "      <td>53.139616</td>\n",
              "      <td>21.113041</td>\n",
              "      <td>421.435068</td>\n",
              "      <td>1050.534795</td>\n",
              "      <td>279.010959</td>\n",
              "      <td>77.391233</td>\n",
              "      <td>0.671233</td>\n",
              "      <td>421.435068</td>\n",
              "    </tr>\n",
              "    <tr>\n",
              "      <th>std</th>\n",
              "      <td>526.976438</td>\n",
              "      <td>0.413057</td>\n",
              "      <td>14.778411</td>\n",
              "      <td>22.364741</td>\n",
              "      <td>330.583617</td>\n",
              "      <td>1512.674013</td>\n",
              "      <td>608.489206</td>\n",
              "      <td>23.317515</td>\n",
              "      <td>0.469894</td>\n",
              "      <td>330.583617</td>\n",
              "    </tr>\n",
              "    <tr>\n",
              "      <th>min</th>\n",
              "      <td>1.000000</td>\n",
              "      <td>0.000000</td>\n",
              "      <td>13.900000</td>\n",
              "      <td>0.000000</td>\n",
              "      <td>9.000000</td>\n",
              "      <td>2.000000</td>\n",
              "      <td>0.000000</td>\n",
              "      <td>7.000000</td>\n",
              "      <td>0.000000</td>\n",
              "      <td>9.000000</td>\n",
              "    </tr>\n",
              "    <tr>\n",
              "      <th>10%</th>\n",
              "      <td>183.400000</td>\n",
              "      <td>0.000000</td>\n",
              "      <td>35.200000</td>\n",
              "      <td>0.000000</td>\n",
              "      <td>82.000000</td>\n",
              "      <td>89.400000</td>\n",
              "      <td>11.000000</td>\n",
              "      <td>36.000000</td>\n",
              "      <td>0.000000</td>\n",
              "      <td>82.000000</td>\n",
              "    </tr>\n",
              "    <tr>\n",
              "      <th>25%</th>\n",
              "      <td>457.000000</td>\n",
              "      <td>0.000000</td>\n",
              "      <td>42.400000</td>\n",
              "      <td>3.100000</td>\n",
              "      <td>150.000000</td>\n",
              "      <td>217.000000</td>\n",
              "      <td>32.000000</td>\n",
              "      <td>67.000000</td>\n",
              "      <td>0.000000</td>\n",
              "      <td>150.000000</td>\n",
              "    </tr>\n",
              "    <tr>\n",
              "      <th>50%</th>\n",
              "      <td>913.000000</td>\n",
              "      <td>0.000000</td>\n",
              "      <td>51.600000</td>\n",
              "      <td>13.500000</td>\n",
              "      <td>292.000000</td>\n",
              "      <td>516.000000</td>\n",
              "      <td>92.000000</td>\n",
              "      <td>88.000000</td>\n",
              "      <td>1.000000</td>\n",
              "      <td>292.000000</td>\n",
              "    </tr>\n",
              "    <tr>\n",
              "      <th>75%</th>\n",
              "      <td>1369.000000</td>\n",
              "      <td>0.000000</td>\n",
              "      <td>62.800000</td>\n",
              "      <td>31.800000</td>\n",
              "      <td>663.000000</td>\n",
              "      <td>1200.000000</td>\n",
              "      <td>239.000000</td>\n",
              "      <td>95.000000</td>\n",
              "      <td>1.000000</td>\n",
              "      <td>663.000000</td>\n",
              "    </tr>\n",
              "    <tr>\n",
              "      <th>90%</th>\n",
              "      <td>1642.600000</td>\n",
              "      <td>1.000000</td>\n",
              "      <td>73.800000</td>\n",
              "      <td>55.460000</td>\n",
              "      <td>999.000000</td>\n",
              "      <td>2726.600000</td>\n",
              "      <td>719.400000</td>\n",
              "      <td>97.000000</td>\n",
              "      <td>1.000000</td>\n",
              "      <td>999.000000</td>\n",
              "    </tr>\n",
              "    <tr>\n",
              "      <th>max</th>\n",
              "      <td>1825.000000</td>\n",
              "      <td>1.000000</td>\n",
              "      <td>95.600000</td>\n",
              "      <td>100.000000</td>\n",
              "      <td>999.000000</td>\n",
              "      <td>20217.000000</td>\n",
              "      <td>8900.000000</td>\n",
              "      <td>100.000000</td>\n",
              "      <td>1.000000</td>\n",
              "      <td>999.000000</td>\n",
              "    </tr>\n",
              "  </tbody>\n",
              "</table>\n",
              "</div>\n",
              "    <div class=\"colab-df-buttons\">\n",
              "\n",
              "  <div class=\"colab-df-container\">\n",
              "    <button class=\"colab-df-convert\" onclick=\"convertToInteractive('df-e5c35818-9bb6-427c-93d5-acfe4095c4ad')\"\n",
              "            title=\"Convert this dataframe to an interactive table.\"\n",
              "            style=\"display:none;\">\n",
              "\n",
              "  <svg xmlns=\"http://www.w3.org/2000/svg\" height=\"24px\" viewBox=\"0 -960 960 960\">\n",
              "    <path d=\"M120-120v-720h720v720H120Zm60-500h600v-160H180v160Zm220 220h160v-160H400v160Zm0 220h160v-160H400v160ZM180-400h160v-160H180v160Zm440 0h160v-160H620v160ZM180-180h160v-160H180v160Zm440 0h160v-160H620v160Z\"/>\n",
              "  </svg>\n",
              "    </button>\n",
              "\n",
              "  <style>\n",
              "    .colab-df-container {\n",
              "      display:flex;\n",
              "      gap: 12px;\n",
              "    }\n",
              "\n",
              "    .colab-df-convert {\n",
              "      background-color: #E8F0FE;\n",
              "      border: none;\n",
              "      border-radius: 50%;\n",
              "      cursor: pointer;\n",
              "      display: none;\n",
              "      fill: #1967D2;\n",
              "      height: 32px;\n",
              "      padding: 0 0 0 0;\n",
              "      width: 32px;\n",
              "    }\n",
              "\n",
              "    .colab-df-convert:hover {\n",
              "      background-color: #E2EBFA;\n",
              "      box-shadow: 0px 1px 2px rgba(60, 64, 67, 0.3), 0px 1px 3px 1px rgba(60, 64, 67, 0.15);\n",
              "      fill: #174EA6;\n",
              "    }\n",
              "\n",
              "    .colab-df-buttons div {\n",
              "      margin-bottom: 4px;\n",
              "    }\n",
              "\n",
              "    [theme=dark] .colab-df-convert {\n",
              "      background-color: #3B4455;\n",
              "      fill: #D2E3FC;\n",
              "    }\n",
              "\n",
              "    [theme=dark] .colab-df-convert:hover {\n",
              "      background-color: #434B5C;\n",
              "      box-shadow: 0px 1px 3px 1px rgba(0, 0, 0, 0.15);\n",
              "      filter: drop-shadow(0px 1px 2px rgba(0, 0, 0, 0.3));\n",
              "      fill: #FFFFFF;\n",
              "    }\n",
              "  </style>\n",
              "\n",
              "    <script>\n",
              "      const buttonEl =\n",
              "        document.querySelector('#df-e5c35818-9bb6-427c-93d5-acfe4095c4ad button.colab-df-convert');\n",
              "      buttonEl.style.display =\n",
              "        google.colab.kernel.accessAllowed ? 'block' : 'none';\n",
              "\n",
              "      async function convertToInteractive(key) {\n",
              "        const element = document.querySelector('#df-e5c35818-9bb6-427c-93d5-acfe4095c4ad');\n",
              "        const dataTable =\n",
              "          await google.colab.kernel.invokeFunction('convertToInteractive',\n",
              "                                                    [key], {});\n",
              "        if (!dataTable) return;\n",
              "\n",
              "        const docLinkHtml = 'Like what you see? Visit the ' +\n",
              "          '<a target=\"_blank\" href=https://colab.research.google.com/notebooks/data_table.ipynb>data table notebook</a>'\n",
              "          + ' to learn more about interactive tables.';\n",
              "        element.innerHTML = '';\n",
              "        dataTable['output_type'] = 'display_data';\n",
              "        await google.colab.output.renderOutput(dataTable, element);\n",
              "        const docLink = document.createElement('div');\n",
              "        docLink.innerHTML = docLinkHtml;\n",
              "        element.appendChild(docLink);\n",
              "      }\n",
              "    </script>\n",
              "  </div>\n",
              "\n",
              "\n",
              "<div id=\"df-c8952d6c-c3bf-4dd4-9ea3-61bcda082b6a\">\n",
              "  <button class=\"colab-df-quickchart\" onclick=\"quickchart('df-c8952d6c-c3bf-4dd4-9ea3-61bcda082b6a')\"\n",
              "            title=\"Suggest charts.\"\n",
              "            style=\"display:none;\">\n",
              "\n",
              "<svg xmlns=\"http://www.w3.org/2000/svg\" height=\"24px\"viewBox=\"0 0 24 24\"\n",
              "     width=\"24px\">\n",
              "    <g>\n",
              "        <path d=\"M19 3H5c-1.1 0-2 .9-2 2v14c0 1.1.9 2 2 2h14c1.1 0 2-.9 2-2V5c0-1.1-.9-2-2-2zM9 17H7v-7h2v7zm4 0h-2V7h2v10zm4 0h-2v-4h2v4z\"/>\n",
              "    </g>\n",
              "</svg>\n",
              "  </button>\n",
              "\n",
              "<style>\n",
              "  .colab-df-quickchart {\n",
              "      --bg-color: #E8F0FE;\n",
              "      --fill-color: #1967D2;\n",
              "      --hover-bg-color: #E2EBFA;\n",
              "      --hover-fill-color: #174EA6;\n",
              "      --disabled-fill-color: #AAA;\n",
              "      --disabled-bg-color: #DDD;\n",
              "  }\n",
              "\n",
              "  [theme=dark] .colab-df-quickchart {\n",
              "      --bg-color: #3B4455;\n",
              "      --fill-color: #D2E3FC;\n",
              "      --hover-bg-color: #434B5C;\n",
              "      --hover-fill-color: #FFFFFF;\n",
              "      --disabled-bg-color: #3B4455;\n",
              "      --disabled-fill-color: #666;\n",
              "  }\n",
              "\n",
              "  .colab-df-quickchart {\n",
              "    background-color: var(--bg-color);\n",
              "    border: none;\n",
              "    border-radius: 50%;\n",
              "    cursor: pointer;\n",
              "    display: none;\n",
              "    fill: var(--fill-color);\n",
              "    height: 32px;\n",
              "    padding: 0;\n",
              "    width: 32px;\n",
              "  }\n",
              "\n",
              "  .colab-df-quickchart:hover {\n",
              "    background-color: var(--hover-bg-color);\n",
              "    box-shadow: 0 1px 2px rgba(60, 64, 67, 0.3), 0 1px 3px 1px rgba(60, 64, 67, 0.15);\n",
              "    fill: var(--button-hover-fill-color);\n",
              "  }\n",
              "\n",
              "  .colab-df-quickchart-complete:disabled,\n",
              "  .colab-df-quickchart-complete:disabled:hover {\n",
              "    background-color: var(--disabled-bg-color);\n",
              "    fill: var(--disabled-fill-color);\n",
              "    box-shadow: none;\n",
              "  }\n",
              "\n",
              "  .colab-df-spinner {\n",
              "    border: 2px solid var(--fill-color);\n",
              "    border-color: transparent;\n",
              "    border-bottom-color: var(--fill-color);\n",
              "    animation:\n",
              "      spin 1s steps(1) infinite;\n",
              "  }\n",
              "\n",
              "  @keyframes spin {\n",
              "    0% {\n",
              "      border-color: transparent;\n",
              "      border-bottom-color: var(--fill-color);\n",
              "      border-left-color: var(--fill-color);\n",
              "    }\n",
              "    20% {\n",
              "      border-color: transparent;\n",
              "      border-left-color: var(--fill-color);\n",
              "      border-top-color: var(--fill-color);\n",
              "    }\n",
              "    30% {\n",
              "      border-color: transparent;\n",
              "      border-left-color: var(--fill-color);\n",
              "      border-top-color: var(--fill-color);\n",
              "      border-right-color: var(--fill-color);\n",
              "    }\n",
              "    40% {\n",
              "      border-color: transparent;\n",
              "      border-right-color: var(--fill-color);\n",
              "      border-top-color: var(--fill-color);\n",
              "    }\n",
              "    60% {\n",
              "      border-color: transparent;\n",
              "      border-right-color: var(--fill-color);\n",
              "    }\n",
              "    80% {\n",
              "      border-color: transparent;\n",
              "      border-right-color: var(--fill-color);\n",
              "      border-bottom-color: var(--fill-color);\n",
              "    }\n",
              "    90% {\n",
              "      border-color: transparent;\n",
              "      border-bottom-color: var(--fill-color);\n",
              "    }\n",
              "  }\n",
              "</style>\n",
              "\n",
              "  <script>\n",
              "    async function quickchart(key) {\n",
              "      const quickchartButtonEl =\n",
              "        document.querySelector('#' + key + ' button');\n",
              "      quickchartButtonEl.disabled = true;  // To prevent multiple clicks.\n",
              "      quickchartButtonEl.classList.add('colab-df-spinner');\n",
              "      try {\n",
              "        const charts = await google.colab.kernel.invokeFunction(\n",
              "            'suggestCharts', [key], {});\n",
              "      } catch (error) {\n",
              "        console.error('Error during call to suggestCharts:', error);\n",
              "      }\n",
              "      quickchartButtonEl.classList.remove('colab-df-spinner');\n",
              "      quickchartButtonEl.classList.add('colab-df-quickchart-complete');\n",
              "    }\n",
              "    (() => {\n",
              "      let quickchartButtonEl =\n",
              "        document.querySelector('#df-c8952d6c-c3bf-4dd4-9ea3-61bcda082b6a button');\n",
              "      quickchartButtonEl.style.display =\n",
              "        google.colab.kernel.accessAllowed ? 'block' : 'none';\n",
              "    })();\n",
              "  </script>\n",
              "</div>\n",
              "    </div>\n",
              "  </div>\n"
            ]
          },
          "metadata": {},
          "execution_count": 27
        }
      ]
    },
    {
      "cell_type": "markdown",
      "source": [
        "####Inferences from .describe()\n",
        "\n",
        "\n",
        "1.   A feature with 0 standard variances may not be useful. 0 std indicates that all the values of the feature column are the same.\n",
        "2.    Check if the data is balanced, left skewed or right skewed example\n",
        "If your data has a symmetric distribution the mean is often used.\n",
        "\n",
        "> Example: men's heights are probably bell-shaped. It makes sense to refer to the middle peak of that bell, because most men's heights will be somewhere near that number.\n",
        "\n",
        "> If your data is skewed (i.e. has a very long tail in one direction but not the other) the median is often used. Example: incomes. Most people make let's say 50k. But there's one person who makes 300 million. The mean will average these out, and end up being something like 200 million, let's say. That's deceptive because most people do not make anywhere near that. The median, however, will be near 50,000, since by definition, half of the sample must be below, and half above that number.\n",
        "\n",
        "\n",
        "\n"
      ],
      "metadata": {
        "id": "FAjgOP4DycSH"
      }
    },
    {
      "cell_type": "markdown",
      "source": [
        "### Picturize the important attributes/relations.\n",
        "####How??\n",
        "####Undertand your usecase like here - you can draw a conclusion on what kind of questions are mostly solved on leetcode or what percentage of students opt for premium and they are also asked in faang.\n",
        "\n",
        "\n",
        "1.   Start by plotting yes/no attr.\n",
        "2.   Try to plot the outliners in the dataset to see  is their any field thats dragging your data like likes field here.\n",
        "3.   plot combination of attributes to have a deeper undersatnding of the data.\n",
        "4.   plot the pairplot to visualize all the combinations of attributes in dataset.\n",
        "\n"
      ],
      "metadata": {
        "id": "c967cJxNa407"
      }
    },
    {
      "cell_type": "code",
      "source": [
        "leetcode_dataset.boxplot(column=['frequency'])"
      ],
      "metadata": {
        "colab": {
          "base_uri": "https://localhost:8080/",
          "height": 447
        },
        "id": "Lo7xYN1Kb9zd",
        "outputId": "79cfa567-ad17-4111-f069-ba1389ce0212"
      },
      "execution_count": null,
      "outputs": [
        {
          "output_type": "execute_result",
          "data": {
            "text/plain": [
              "<Axes: >"
            ]
          },
          "metadata": {},
          "execution_count": 25
        },
        {
          "output_type": "display_data",
          "data": {
            "text/plain": [
              "<Figure size 640x480 with 1 Axes>"
            ],
            "image/png": "[encoded data removed]"
          },
          "metadata": {}
        }
      ]
    },
    {
      "cell_type": "code",
      "source": [
        "# import seaborn for visualization\n",
        "import seaborn as sns\n",
        "sns.set()"
      ],
      "metadata": {
        "id": "4lombe7lcAbk"
      },
      "execution_count": null,
      "outputs": []
    },
    {
      "cell_type": "code",
      "source": [
        "leetcode_dataset['asked_by_faang'].value_counts()"
      ],
      "metadata": {
        "colab": {
          "base_uri": "https://localhost:8080/"
        },
        "id": "6UDigUNedFr-",
        "outputId": "695c8fc5-ddd4-4219-d5a8-b98c1ad0b6fe"
      },
      "execution_count": null,
      "outputs": [
        {
          "output_type": "execute_result",
          "data": {
            "text/plain": [
              "1    1225\n",
              "0     600\n",
              "Name: asked_by_faang, dtype: int64"
            ]
          },
          "metadata": {},
          "execution_count": 28
        }
      ]
    },
    {
      "cell_type": "code",
      "source": [
        "#Solution 7\n",
        "# use seaborn to build a bar plot of asked_by_faang, which is your target variable\n",
        "sns.countplot(x='asked_by_faang',data=leetcode_dataset);"
      ],
      "metadata": {
        "colab": {
          "base_uri": "https://localhost:8080/",
          "height": 458
        },
        "id": "xb3vX1MpbQN7",
        "outputId": "d2448c80-7b45-45b1-af6c-d377df835d8a"
      },
      "execution_count": null,
      "outputs": [
        {
          "output_type": "display_data",
          "data": {
            "text/plain": [
              "<Figure size 640x480 with 1 Axes>"
            ],
            "image/png": "[encoded data removed]"
          },
          "metadata": {}
        }
      ]
    },
    {
      "cell_type": "code",
      "source": [
        "#Solution 7\n",
        "sns.countplot(x='is_premium',data=leetcode_dataset)"
      ],
      "metadata": {
        "colab": {
          "base_uri": "https://localhost:8080/",
          "height": 476
        },
        "id": "_Uo6YXSIdEZD",
        "outputId": "ffc726ac-47bd-4f99-a745-b722fffe6b65"
      },
      "execution_count": null,
      "outputs": [
        {
          "output_type": "execute_result",
          "data": {
            "text/plain": [
              "<Axes: xlabel='is_premium', ylabel='count'>"
            ]
          },
          "metadata": {},
          "execution_count": 12
        },
        {
          "output_type": "display_data",
          "data": {
            "text/plain": [
              "<Figure size 640x480 with 1 Axes>"
            ],
            "image/png": "[encoded data removed]"
          },
          "metadata": {}
        }
      ]
    },
    {
      "cell_type": "code",
      "source": [
        "#Solution 6\n",
        "#plotting the outliners in the dataset.\n",
        "import matplotlib.pyplot as plt\n",
        "plt.figure(figsize =(15,10))\n",
        "leetcode_dataset.boxplot(vert = 0)\n",
        "plt.title('Leetcode Problems Outliers');"
      ],
      "metadata": {
        "colab": {
          "base_uri": "https://localhost:8080/",
          "height": 701
        },
        "id": "qtZIqdApgjNd",
        "outputId": "f3d6b8ae-f3af-45fc-e0cc-f288d5d18265"
      },
      "execution_count": null,
      "outputs": [
        {
          "output_type": "display_data",
          "data": {
            "text/plain": [
              "<Figure size 1500x1000 with 1 Axes>"
            ],
            "image/png": "[encoded data removed]"
          },
          "metadata": {}
        }
      ]
    },
    {
      "cell_type": "code",
      "source": [
        "#Solution 7\n",
        "sns.countplot(x='difficulty',data=leetcode_dataset)"
      ],
      "metadata": {
        "colab": {
          "base_uri": "https://localhost:8080/",
          "height": 478
        },
        "id": "heI3gTui1DwC",
        "outputId": "2ea89a6c-b0ae-4235-dab6-84d9d775308b"
      },
      "execution_count": null,
      "outputs": [
        {
          "output_type": "execute_result",
          "data": {
            "text/plain": [
              "<Axes: xlabel='difficulty', ylabel='count'>"
            ]
          },
          "metadata": {},
          "execution_count": 16
        },
        {
          "output_type": "display_data",
          "data": {
            "text/plain": [
              "<Figure size 640x480 with 1 Axes>"
            ],
            "image/png": "[encoded data removed]"
          },
          "metadata": {}
        }
      ]
    },
    {
      "cell_type": "code",
      "source": [
        "leetcode_dataset[\"companies\"].value_counts().head(10)"
      ],
      "metadata": {
        "colab": {
          "base_uri": "https://localhost:8080/"
        },
        "id": "sGWUZk-ReL01",
        "outputId": "0a9ca76a-ea22-499b-8500-b09a904a86e3"
      },
      "execution_count": null,
      "outputs": [
        {
          "output_type": "execute_result",
          "data": {
            "text/plain": [
              "Google           257\n",
              "Amazon           224\n",
              "Facebook         101\n",
              "Microsoft         65\n",
              "Bloomberg         32\n",
              "Uber              25\n",
              "Apple             22\n",
              "Google,Amazon     16\n",
              "Adobe             16\n",
              "Amazon,Google     15\n",
              "Name: companies, dtype: int64"
            ]
          },
          "metadata": {},
          "execution_count": 31
        }
      ]
    },
    {
      "cell_type": "code",
      "source": [
        "#Solution 8\n",
        "import matplotlib.pyplot as plt\n",
        "fig, ax = plt.subplots(figsize=(8, 8))\n",
        "leetcode_dataset[\"companies\"].value_counts().tail(20).sort_values(ascending=True).plot(\n",
        "    kind=\"barh\", color ='red', ax=ax, title=\"Top 20 Companies in Leetcode Problems\"\n",
        ")\n",
        "ax.set_xlabel(\"Number of Questions in Training Dataset\")\n",
        "plt.show()"
      ],
      "metadata": {
        "colab": {
          "base_uri": "https://localhost:8080/",
          "height": 685
        },
        "id": "4Cr-6E0Z1fFY",
        "outputId": "beec4aba-a1c3-4495-d973-b49d627c04bb"
      },
      "execution_count": null,
      "outputs": [
        {
          "output_type": "display_data",
          "data": {
            "text/plain": [
              "<Figure size 800x800 with 1 Axes>"
            ],
            "image/png": "[encoded data removed]"
          },
          "metadata": {}
        }
      ]
    },
    {
      "cell_type": "code",
      "source": [
        "#sns.pairplot()"
      ],
      "metadata": {
        "id": "TQYpd9SJ2IWJ"
      },
      "execution_count": null,
      "outputs": []
    },
    {
      "cell_type": "code",
      "source": [
        "#Solution 7\n",
        "leetcode_dataset.groupby(['is_premium']).asked_by_faang.mean()"
      ],
      "metadata": {
        "colab": {
          "base_uri": "https://localhost:8080/"
        },
        "id": "WGm0AsQo2Sk0",
        "outputId": "9f00c02e-9729-4013-8a6e-d247c7fb7001"
      },
      "execution_count": null,
      "outputs": [
        {
          "output_type": "execute_result",
          "data": {
            "text/plain": [
              "is_premium\n",
              "0    0.681149\n",
              "1    0.635678\n",
              "Name: asked_by_faang, dtype: float64"
            ]
          },
          "metadata": {},
          "execution_count": 32
        }
      ]
    },
    {
      "cell_type": "code",
      "source": [
        "#Solution 7\n",
        "leetcode_dataset.groupby(['difficulty']).asked_by_faang.mean()"
      ],
      "metadata": {
        "colab": {
          "base_uri": "https://localhost:8080/"
        },
        "id": "iw2k7PwR2tcN",
        "outputId": "a0fdf62e-382d-4f3f-e780-0ba80f583b7f"
      },
      "execution_count": null,
      "outputs": [
        {
          "output_type": "execute_result",
          "data": {
            "text/plain": [
              "difficulty\n",
              "Easy      0.628931\n",
              "Hard      0.667532\n",
              "Medium    0.693666\n",
              "Name: asked_by_faang, dtype: float64"
            ]
          },
          "metadata": {},
          "execution_count": 36
        }
      ]
    },
    {
      "cell_type": "code",
      "source": [
        "#Solution 7\n",
        "leetcode_dataset.groupby('is_premium').rating.hist(alpha=0.6)"
      ],
      "metadata": {
        "colab": {
          "base_uri": "https://localhost:8080/",
          "height": 505
        },
        "id": "Z5Hok95i-uRU",
        "outputId": "259771e7-ea18-48a3-ff0c-99654bf39144"
      },
      "execution_count": null,
      "outputs": [
        {
          "output_type": "execute_result",
          "data": {
            "text/plain": [
              "is_premium\n",
              "0    Axes(0.125,0.11;0.775x0.77)\n",
              "1    Axes(0.125,0.11;0.775x0.77)\n",
              "Name: rating, dtype: object"
            ]
          },
          "metadata": {},
          "execution_count": 42
        },
        {
          "output_type": "display_data",
          "data": {
            "text/plain": [
              "<Figure size 640x480 with 1 Axes>"
            ],
            "image/png": "[encoded data removed]"
          },
          "metadata": {}
        }
      ]
    },
    {
      "cell_type": "code",
      "source": [
        "#Use seaborn to plot a histogram of the 'rating' column of leetcode_dataset. You'll need to drop null values before doing so\n",
        "leetcode_dataset_drop = leetcode_dataset.dropna()\n",
        "sns.displot(leetcode_dataset_drop.rating, kde=False);"
      ],
      "metadata": {
        "colab": {
          "base_uri": "https://localhost:8080/",
          "height": 501
        },
        "id": "zjSJ0-QR_Yj2",
        "outputId": "c857526b-3c6f-4aff-8f44-213c36df0864"
      },
      "execution_count": null,
      "outputs": [
        {
          "output_type": "display_data",
          "data": {
            "text/plain": [
              "<Figure size 500x500 with 1 Axes>"
            ],
            "image/png": "[encoded data removed]"
          },
          "metadata": {}
        }
      ]
    },
    {
      "cell_type": "code",
      "source": [
        "# Use seaborn to create a pairplot of leetcode_dataset, colored by 'asked_by_faang'.\n",
        "# A pairplot is a great way to display most of the information that you have already\n",
        "# discovered in a single grid of plots.\n",
        "sns.pairplot(leetcode_dataset, hue='asked_by_faang')"
      ],
      "metadata": {
        "id": "g5hO6q74_egs",
        "colab": {
          "base_uri": "https://localhost:8080/",
          "height": 210
        },
        "outputId": "b1c838e5-8aa2-43ad-956c-44b411525ba0"
      },
      "execution_count": null,
      "outputs": [
        {
          "output_type": "error",
          "ename": "NameError",
          "evalue": "ignored",
          "traceback": [
            "\u001b[0;31m---------------------------------------------------------------------------\u001b[0m",
            "\u001b[0;31mNameError\u001b[0m                                 Traceback (most recent call last)",
            "\u001b[0;32m<ipython-input-37-e8d3cdb3f196>\u001b[0m in \u001b[0;36m<cell line: 4>\u001b[0;34m()\u001b[0m\n\u001b[1;32m      2\u001b[0m \u001b[0;31m# A pairplot is a great way to display most of the information that you have already\u001b[0m\u001b[0;34m\u001b[0m\u001b[0;34m\u001b[0m\u001b[0m\n\u001b[1;32m      3\u001b[0m \u001b[0;31m# discovered in a single grid of plots.\u001b[0m\u001b[0;34m\u001b[0m\u001b[0;34m\u001b[0m\u001b[0m\n\u001b[0;32m----> 4\u001b[0;31m \u001b[0msns\u001b[0m\u001b[0;34m.\u001b[0m\u001b[0mpairplot\u001b[0m\u001b[0;34m(\u001b[0m\u001b[0mleetcode_dataset\u001b[0m\u001b[0;34m,\u001b[0m \u001b[0mhue\u001b[0m\u001b[0;34m=\u001b[0m\u001b[0;34m'asked_by_faang'\u001b[0m\u001b[0;34m)\u001b[0m\u001b[0;34m\u001b[0m\u001b[0;34m\u001b[0m\u001b[0m\n\u001b[0m",
            "\u001b[0;31mNameError\u001b[0m: name 'sns' is not defined"
          ]
        }
      ]
    }
  ]
}