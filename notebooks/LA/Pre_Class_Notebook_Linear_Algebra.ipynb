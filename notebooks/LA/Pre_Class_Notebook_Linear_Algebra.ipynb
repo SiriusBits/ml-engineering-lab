{
  "cells": [
    {
      "cell_type": "markdown",
      "metadata": {
        "id": "view-in-github",
        "colab_type": "text"
      },
      "source": [
        "<a href=\"https://colab.research.google.com/github/SiriusBits/ml-engineering-lab/blob/main/notebooks/LA/Pre_Class_Notebook_Linear_Algebra.ipynb\" target=\"_parent\"><img src=\"https://colab.research.google.com/assets/colab-badge.svg\" alt=\"Open In Colab\"/></a>"
      ]
    },
    {
      "cell_type": "markdown",
      "metadata": {
        "id": "DsEG8X73ogJd"
      },
      "source": [
        "# VECTORS"
      ]
    },
    {
      "cell_type": "markdown",
      "metadata": {
        "id": "xuWZ6T0Aop4Q"
      },
      "source": [
        "**Objectives**:\n",
        "- Understand the concept of vectors and their properties.\n",
        "- Perform vector operations such as addition, subtraction, and scalar multiplication.\n",
        "- Calculate the magnitude and direction of a vector.\n",
        "- Understand the concept of linear combinations and linear independence"
      ]
    },
    {
      "cell_type": "markdown",
      "metadata": {
        "id": "pjKEpQfBq59h"
      },
      "source": [
        "#1.1 Definition of vectors\n",
        "A Vector in Python is simply a one-dimensional array of lists.\n",
        "\n",
        "We use numpy.array() method to create vector"
      ]
    },
    {
      "cell_type": "code",
      "execution_count": null,
      "metadata": {
        "colab": {
          "base_uri": "https://localhost:8080/"
        },
        "id": "RKBTXjjJossd",
        "outputId": "74c4bcb7-21c1-41d8-f432-bc99913710bc"
      },
      "outputs": [
        {
          "output_type": "stream",
          "name": "stdout",
          "text": [
            "Let's see what our vector looks like: \n",
            "[1 2 3]\n"
          ]
        }
      ],
      "source": [
        "import numpy as np\n",
        "myList = [1, 2, 3]\n",
        "myVector = np.array(myList)\n",
        "\n",
        "print(\"Let's see what our vector looks like: \")\n",
        "print(myVector)"
      ]
    },
    {
      "cell_type": "markdown",
      "metadata": {
        "id": "dmZ5lqKQsnhC"
      },
      "source": [
        "Vectors can be horizontal or vertical. In the next code block, you can see the difference between the appearance of these vectors\n",
        "\n"
      ]
    },
    {
      "cell_type": "code",
      "source": [
        "myVector.shape"
      ],
      "metadata": {
        "colab": {
          "base_uri": "https://localhost:8080/"
        },
        "id": "qen75k-D9JqX",
        "outputId": "5fcd17ae-74fb-4f93-94e8-aaf13d0d7387"
      },
      "execution_count": null,
      "outputs": [
        {
          "output_type": "execute_result",
          "data": {
            "text/plain": [
              "(3,)"
            ]
          },
          "metadata": {},
          "execution_count": 3
        }
      ]
    },
    {
      "cell_type": "code",
      "source": [
        "np.arange(100).reshape(-1,4).shape"
      ],
      "metadata": {
        "colab": {
          "base_uri": "https://localhost:8080/"
        },
        "id": "YDvpH5es9v5s",
        "outputId": "d50605f7-df0c-4f60-cf51-59f8ed51f109"
      },
      "execution_count": null,
      "outputs": [
        {
          "output_type": "execute_result",
          "data": {
            "text/plain": [
              "(25, 4)"
            ]
          },
          "metadata": {},
          "execution_count": 11
        }
      ]
    },
    {
      "cell_type": "code",
      "source": [
        "myVector.reshape(-1,3)"
      ],
      "metadata": {
        "colab": {
          "base_uri": "https://localhost:8080/"
        },
        "id": "qqawG1P69Qzo",
        "outputId": "98184fe7-d57a-4b02-a919-02cb4e327e8e"
      },
      "execution_count": null,
      "outputs": [
        {
          "output_type": "execute_result",
          "data": {
            "text/plain": [
              "array([[1, 2, 3]])"
            ]
          },
          "metadata": {},
          "execution_count": 7
        }
      ]
    },
    {
      "cell_type": "code",
      "execution_count": null,
      "metadata": {
        "id": "-QU9T64ipyCG",
        "colab": {
          "base_uri": "https://localhost:8080/"
        },
        "outputId": "0c013d90-5a31-4c5a-a381-6fa8e2eab120"
      },
      "outputs": [
        {
          "output_type": "stream",
          "name": "stdout",
          "text": [
            "Horizontal Vector created from list: \n",
            "[1 2 3 4]\n",
            "\n",
            "Vertical Vector created from list: \n",
            "[[1]\n",
            " [2]\n",
            " [3]\n",
            " [4]]\n"
          ]
        }
      ],
      "source": [
        "horizontalVector = np.array([1, 2, 3, 4])\n",
        "verticalVector = np.array([[1],[2],[3],[4]])\n",
        "\n",
        "print(\"Horizontal Vector created from list: \")\n",
        "print(horizontalVector)\n",
        "print()\n",
        "\n",
        "print(\"Vertical Vector created from list: \")\n",
        "print(verticalVector)"
      ]
    },
    {
      "cell_type": "markdown",
      "metadata": {
        "id": "UdrVWG9mrF24"
      },
      "source": [
        "\n",
        "#1.2 Vector operations\n",
        "\n"
      ]
    },
    {
      "cell_type": "markdown",
      "metadata": {
        "id": "5j_OKwirrgGl"
      },
      "source": [
        "Numpy arrays (vectors) can be operated upon by the following operations. Some of these operations are:\n",
        " - Addition\n",
        " - Subtraction\n",
        " - Multiplication\n",
        " - Division\n",
        " - Dot Product"
      ]
    },
    {
      "cell_type": "markdown",
      "metadata": {
        "id": "mMBahbIktMP2"
      },
      "source": [
        "#### Addition\n",
        "The addition operation takes place in an element-wise manner i.e. element by element. As a result, the resultant vector would have the same length as that of the two additive vectors"
      ]
    },
    {
      "cell_type": "code",
      "execution_count": null,
      "metadata": {
        "id": "BY6A8HjdqRJX",
        "colab": {
          "base_uri": "https://localhost:8080/"
        },
        "outputId": "8f03beb1-4488-44da-f3d5-065ccddb64cb"
      },
      "outputs": [
        {
          "output_type": "stream",
          "name": "stdout",
          "text": [
            "[11 22 33 44 55]\n"
          ]
        }
      ],
      "source": [
        "# Addition\n",
        "vec1 = np.array([10,20,30,40,50])\n",
        "vec2 = np.array([1,2,3,4,5])\n",
        "sum = vec1+vec2\n",
        "print(sum)"
      ]
    },
    {
      "cell_type": "markdown",
      "metadata": {
        "id": "rsXrfq96ts_O"
      },
      "source": [
        "#### Subtraction\n",
        "Similarly, the element-wise fashion would be followed in subtraction as well. The elements of vector 2 will get subtracted from vector 1.\n"
      ]
    },
    {
      "cell_type": "code",
      "execution_count": null,
      "metadata": {
        "id": "_zM7D7DNuGgI",
        "colab": {
          "base_uri": "https://localhost:8080/"
        },
        "outputId": "26880cd4-af51-4c40-d9ab-d33af1f4d57e"
      },
      "outputs": [
        {
          "output_type": "stream",
          "name": "stdout",
          "text": [
            "[ 9 18 27 36 45]\n"
          ]
        }
      ],
      "source": [
        "# Subtraction\n",
        "vec1 = np.array([10,20,30,40,50])\n",
        "vec2 = np.array([1,2,3,4,5])\n",
        "sub = vec1-vec2\n",
        "print(sub)"
      ]
    },
    {
      "cell_type": "markdown",
      "metadata": {
        "id": "S7RNsHf7uibW"
      },
      "source": [
        "#### Multiplication\n",
        "In a vector multiplication, the elements of vector 1 get multiplied by the elements of vector 2 in an element-wise manner and the product vector is of the same length as of the multiplying vectors.\n",
        "In the code block below, for example, we can see that\n",
        "\n",
        "**mul[0] = vec1[0] * vec2[0]**\n",
        "\n",
        "**mul[1] = vec1[1] * vec2[1]**\n",
        "\n",
        "and so on...\n"
      ]
    },
    {
      "cell_type": "code",
      "execution_count": null,
      "metadata": {
        "colab": {
          "base_uri": "https://localhost:8080/"
        },
        "id": "fwe-NOICuvjf",
        "outputId": "01bd8496-a93d-4567-809f-6cddb6d997a3"
      },
      "outputs": [
        {
          "output_type": "stream",
          "name": "stdout",
          "text": [
            "[ 10  40  90 160 250]\n"
          ]
        }
      ],
      "source": [
        "# Multiplication\n",
        "\n",
        "vec1 = np.array([10,20,30,40,50])\n",
        "vec2 = np.array([1,2,3,4,5])\n",
        "# Vectors must be on the same dimension\n",
        "#vec3 = np.array([2, 4])\n",
        "mul =  vec1*vec2 # * --> Dot product for vectors\n",
        "#mul = vec1 * vec3\n",
        "print(mul)"
      ]
    },
    {
      "cell_type": "markdown",
      "metadata": {
        "id": "GUWJ-EFkvUu6"
      },
      "source": [
        "#### Division\n",
        "Similar to vector multiplication, in vector division, the resultant vector is the quotient values after carrying out element-by-element division operation on the two vectors\n",
        "In the code block below, for example, we can see that\n",
        "\n",
        "**div[0] = vec1[0] / vec2[0]**\n",
        "\n",
        "**div[1] = vec1[1] / vec2[1]**\n",
        "\n",
        "and so on...\n"
      ]
    },
    {
      "cell_type": "code",
      "execution_count": null,
      "metadata": {
        "id": "tShqvQnqvyoB",
        "colab": {
          "base_uri": "https://localhost:8080/"
        },
        "outputId": "c84757a9-201e-4f5b-a7a2-a105c643f4b4"
      },
      "outputs": [
        {
          "output_type": "stream",
          "name": "stdout",
          "text": [
            "[10.   5.   7.5 10.  10. ]\n"
          ]
        }
      ],
      "source": [
        "# Division\n",
        "vec1 = np.array([10,20,30,40,50])\n",
        "vec2 = np.array([1,4,4,4,5])\n",
        "div = vec1/vec2 # --> Elemenwise division\n",
        "print(div)"
      ]
    },
    {
      "cell_type": "markdown",
      "metadata": {
        "id": "pp_3_RhCFxsJ"
      },
      "source": [
        "#### Operations with Scalers\n",
        "All the mentioned operations can be done using scalers too. In that case, the scaler will be iterated over all the elements of the vector"
      ]
    },
    {
      "cell_type": "code",
      "execution_count": null,
      "metadata": {
        "id": "j48gzHBOGEBh",
        "colab": {
          "base_uri": "https://localhost:8080/"
        },
        "outputId": "0cf59636-8b98-42cd-f688-62864e420504"
      },
      "outputs": [
        {
          "output_type": "stream",
          "name": "stdout",
          "text": [
            "[ 5 10 15 20 25]\n"
          ]
        }
      ],
      "source": [
        "# Operations using Scaler\n",
        "vec = np.array([1,2,3,4,5])\n",
        "scaler = 5\n",
        "\n",
        "print(scaler*vec)"
      ]
    },
    {
      "cell_type": "markdown",
      "metadata": {
        "id": "fzclrcsbwJ42"
      },
      "source": [
        "#### Vector Dot Product\n",
        "In a vector dot product, we perform the summation of the product of the two vectors in an element-wise fashion. As a result, the resultant is not a vector, but a scalar value\n"
      ]
    },
    {
      "cell_type": "code",
      "execution_count": null,
      "metadata": {
        "id": "irggVQJLwXHv",
        "colab": {
          "base_uri": "https://localhost:8080/"
        },
        "outputId": "43347db0-e9f3-4094-dda0-84a485c61adf"
      },
      "outputs": [
        {
          "output_type": "stream",
          "name": "stdout",
          "text": [
            "[1 3 5 7 9] 25\n"
          ]
        }
      ],
      "source": [
        "# Vector Dot Product\n",
        "vec1 = np.array([1,3,5,7,9])\n",
        "vec2 = np.array([1,1,1,1,1])\n",
        "usualdp = (vec1 * vec2)\n",
        "dotProduct = vec1.dot(vec2)\n",
        "print(usualdp,dotProduct)"
      ]
    },
    {
      "cell_type": "markdown",
      "source": [
        "#### Vector Cross Product"
      ],
      "metadata": {
        "id": "_WTcTNLgukka"
      }
    },
    {
      "cell_type": "code",
      "source": [
        "# Vector Cross Product\n",
        "vec1 = np.array([0, 2, 0])\n",
        "vec2 = np.array([0, 0, 3])\n",
        "mul =  np.cross(vec1, vec2)\n",
        "print(mul)"
      ],
      "metadata": {
        "id": "cr_0r82VuX8S",
        "colab": {
          "base_uri": "https://localhost:8080/"
        },
        "outputId": "ee4ade4d-f705-46cb-e77f-33058b375e17"
      },
      "execution_count": null,
      "outputs": [
        {
          "output_type": "stream",
          "name": "stdout",
          "text": [
            "[6 0 0]\n"
          ]
        }
      ]
    },
    {
      "cell_type": "markdown",
      "metadata": {
        "id": "qNQW9Fk7BvwM"
      },
      "source": [
        "# 1.3 Magnitude and direction\n",
        "\n",
        "The magnitude of a vector is the square root of sum of element-wise squares of values in the vector. A simple way to find this would be to take the square root of the dot product of a vector with itself."
      ]
    },
    {
      "cell_type": "code",
      "execution_count": null,
      "metadata": {
        "id": "2enY7oqoCbsT",
        "colab": {
          "base_uri": "https://localhost:8080/"
        },
        "outputId": "ecc2b10b-f350-45d3-e201-8e8dc6685567"
      },
      "outputs": [
        {
          "output_type": "stream",
          "name": "stdout",
          "text": [
            "Magnitude of the vector: [3 4] is 5.0\n"
          ]
        }
      ],
      "source": [
        "# Magnitude of Vector\n",
        "from math import sqrt\n",
        "vec = np.array([3,4])\n",
        "dotProd = vec.dot(vec)\n",
        "magnitude = sqrt(dotProd)\n",
        "\n",
        "print(f\"Magnitude of the vector: {vec} is {magnitude}\")"
      ]
    },
    {
      "cell_type": "code",
      "source": [
        "# Unit Vector --> Length 1\n",
        "# Direction is typically computed for the Unit Vector.\n",
        "\n",
        "\n",
        "# Given a Vector, you want a compute the unit vector --> Just divide the vector by the magnitude of the vector"
      ],
      "metadata": {
        "id": "ogFrjNwp_eoE"
      },
      "execution_count": null,
      "outputs": []
    },
    {
      "cell_type": "markdown",
      "metadata": {
        "id": "Dy4jF3QSC4Gy"
      },
      "source": [
        "A unit vector in the direction of the vector can be found out by dividing the vector by the magnitude of the vector."
      ]
    },
    {
      "cell_type": "code",
      "execution_count": null,
      "metadata": {
        "id": "R1exbgCTDozE",
        "colab": {
          "base_uri": "https://localhost:8080/"
        },
        "outputId": "d651c4a5-193e-4b85-fd33-c3f13187a23c"
      },
      "outputs": [
        {
          "output_type": "stream",
          "name": "stdout",
          "text": [
            "Unit vector in the direction of the vector: [3 4] is [0.6 0.8]\n"
          ]
        }
      ],
      "source": [
        "# direction of the vector\n",
        "vec = np.array([3,4])\n",
        "magnitude = sqrt(vec.dot(vec))\n",
        "\n",
        "unitVec = vec/magnitude\n",
        "print(f\"Unit vector in the direction of the vector: {vec} is {unitVec}\")"
      ]
    },
    {
      "cell_type": "code",
      "source": [
        "vec1 = np.array([0, 2, 5])\n",
        "vec2 = np.array([0, 0, 3])\n",
        "\n",
        "def vector_add(u,v):\n",
        "  m_vec1 = np.sqrt((vec1 * vec1).sum())\n",
        "  m_vec2 = np.sqrt((vec2 * vec2).sum())\n",
        "  cos_theta = (vec1 * vec2).sum()/(m_vec1 * m_vec2)\n",
        "\n",
        "  return np.sqrt(m_vec1 ** 2 + m_vec2 ** 2 + 2 * m_vec1 * m_vec2 * cos_theta)\n",
        "\n",
        "\n",
        "vector_add(vec1,vec2)"
      ],
      "metadata": {
        "colab": {
          "base_uri": "https://localhost:8080/"
        },
        "id": "LgU9aB9XAGxt",
        "outputId": "721fb035-eacc-4d21-a56d-773665899691"
      },
      "execution_count": null,
      "outputs": [
        {
          "output_type": "execute_result",
          "data": {
            "text/plain": [
              "8.246211251235321"
            ]
          },
          "metadata": {},
          "execution_count": 26
        }
      ]
    },
    {
      "cell_type": "markdown",
      "metadata": {
        "id": "yKvZVCbVrHoD"
      },
      "source": [
        "# 1.4 Linear combinations and linear independence"
      ]
    },
    {
      "cell_type": "markdown",
      "metadata": {
        "id": "CCkxdHKeE9mN"
      },
      "source": [
        "A linear combination of two (or more) vectors is the vector obtained by adding the vectors after multiplying them by scalar values."
      ]
    },
    {
      "cell_type": "code",
      "execution_count": null,
      "metadata": {
        "id": "Goag4jPcFPzv",
        "colab": {
          "base_uri": "https://localhost:8080/"
        },
        "outputId": "24f6bb45-9bd4-4956-8288-e58a50bd2098"
      },
      "outputs": [
        {
          "output_type": "stream",
          "name": "stdout",
          "text": [
            "Input the scaler with which to multiply the first vector: -100\n",
            "Input the scaler with which to multiply the second vector: -5\n",
            "[1 2] * -100 + [3 1] * -5 = [-115 -205]\n"
          ]
        }
      ],
      "source": [
        "# Linear Combinations\n",
        "vec1 = np.array([1,2])\n",
        "vec2 = np.array([3,1])\n",
        "\n",
        "s1 = int(input(\"Input the scaler with which to multiply the first vector: \"))\n",
        "s2 = int(input(\"Input the scaler with which to multiply the second vector: \"))\n",
        "\n",
        "resultant = vec1*s1 + vec2*s2\n",
        "# z-axle (x, y, 0) -> (a, b, c)\n",
        "print(f\"{vec1} * {s1} + {vec2} * {s2} = {resultant}\")"
      ]
    },
    {
      "cell_type": "markdown",
      "metadata": {
        "id": "qAg5qHMyrIII"
      },
      "source": [
        "2. Linear Independence:\n",
        "Let's consider two vectors a = (1, 3) and b = (2, 6). To check if these vectors are linearly dependent, we need to see if there are any non-zero scalars x and y such that:\n",
        "x * a + y * b = 0\n",
        "Let's try to find such scalars:\n",
        "x * (1, 3) + y * (2, 6) = (0, 0)\n",
        "(1x + 2y, 3x + 6y) = (0, 0)\n",
        "From the first component, we have:\n",
        "1x + 2y = 0 => x = -2y\n",
        "From the second component, we have:\n",
        "3x + 6y = 0\n",
        "Substituting x = -2y, we get:\n",
        "3(-2y) + 6y = 0 => -6y + 6y = 0\n",
        "Since the equation is true for any value of y, we can choose y = 1, which gives us x = -2. Therefore, we have: -2 * (1, 3) + 1 * (2, 6) = (0, 0)"
      ]
    },
    {
      "cell_type": "markdown",
      "source": [
        "Refer to this link for more examples: https://www.statlect.com/matrix-algebra/linear-independence"
      ],
      "metadata": {
        "id": "rKA2315F8mVj"
      }
    },
    {
      "cell_type": "code",
      "source": [
        "import numpy as np\n",
        "\n",
        "np.linalg.matrix_rank([[1,2,1],[-2,-3,1],[3,5,0]])\n"
      ],
      "metadata": {
        "colab": {
          "base_uri": "https://localhost:8080/"
        },
        "id": "ESeSLeDkx_4p",
        "outputId": "2891e409-b519-4a8b-c6e2-9e62cc4e1334"
      },
      "execution_count": null,
      "outputs": [
        {
          "output_type": "execute_result",
          "data": {
            "text/plain": [
              "2"
            ]
          },
          "metadata": {},
          "execution_count": 2
        }
      ]
    },
    {
      "cell_type": "code",
      "source": [
        "np.linalg.det([[1,2,1],[-2,-3,1],[3,5,0]])"
      ],
      "metadata": {
        "colab": {
          "base_uri": "https://localhost:8080/"
        },
        "id": "TjzLmS1dyS4R",
        "outputId": "68f3a46a-c1e0-47b7-b48b-80c732c248e2"
      },
      "execution_count": null,
      "outputs": [
        {
          "output_type": "execute_result",
          "data": {
            "text/plain": [
              "1.3322676295501906e-15"
            ]
          },
          "metadata": {},
          "execution_count": 5
        }
      ]
    },
    {
      "cell_type": "code",
      "source": [
        "from numpy.linalg import eig\n",
        "\n",
        "a = np.array([[0, 2],\n",
        "              [2, 3]])\n",
        "w,v=eig(a)\n",
        "print('E-value:', w)\n",
        "print('E-vector', v)\n"
      ],
      "metadata": {
        "colab": {
          "base_uri": "https://localhost:8080/"
        },
        "id": "iPmCMcVeyg1k",
        "outputId": "8f3680ab-541c-4c9e-824d-83280079e90d"
      },
      "execution_count": null,
      "outputs": [
        {
          "output_type": "stream",
          "name": "stdout",
          "text": [
            "E-value: [-1.  4.]\n",
            "E-vector [[-0.89442719 -0.4472136 ]\n",
            " [ 0.4472136  -0.89442719]]\n"
          ]
        }
      ]
    },
    {
      "cell_type": "code",
      "source": [
        "a = np.array([[2, 2, 4],\n",
        "              [1, 3, 5],\n",
        "              [2, 3, 4]])\n",
        "w,v=eig(a)\n",
        "print('E-value:', w)\n",
        "print('E-vector', v)"
      ],
      "metadata": {
        "id": "Ihn9zSCr4fD4",
        "outputId": "c3d1f986-e986-4ddc-cf56-540d06aa04e3",
        "colab": {
          "base_uri": "https://localhost:8080/"
        }
      },
      "execution_count": null,
      "outputs": [
        {
          "output_type": "stream",
          "name": "stdout",
          "text": [
            "E-value: [ 8.80916362  0.92620912 -0.73537273]\n",
            "E-vector [[-0.52799324 -0.77557092 -0.36272811]\n",
            " [-0.604391    0.62277013 -0.7103262 ]\n",
            " [-0.59660259 -0.10318482  0.60321224]]\n"
          ]
        }
      ]
    },
    {
      "cell_type": "code",
      "source": [
        "np.linalg.inv([[1,2,1],[-2,-3,1],[3,5,0]])"
      ],
      "metadata": {
        "colab": {
          "base_uri": "https://localhost:8080/"
        },
        "id": "C2r1OtEIkZUK",
        "outputId": "35b835e5-10af-424f-e816-af466e5da60c"
      },
      "execution_count": null,
      "outputs": [
        {
          "output_type": "execute_result",
          "data": {
            "text/plain": [
              "array([[-3.75299969e+15,  3.75299969e+15,  3.75299969e+15],\n",
              "       [ 2.25179981e+15, -2.25179981e+15, -2.25179981e+15],\n",
              "       [-7.50599938e+14,  7.50599938e+14,  7.50599938e+14]])"
            ]
          },
          "metadata": {},
          "execution_count": 3
        }
      ]
    },
    {
      "cell_type": "code",
      "source": [
        "np.linalg.det([[1,2,1],[-2,-3,1],[3,5,0]])"
      ],
      "metadata": {
        "colab": {
          "base_uri": "https://localhost:8080/"
        },
        "id": "m3WwptZIkfp2",
        "outputId": "9f5cbea2-f9ea-4684-e02a-9701cb33a0df"
      },
      "execution_count": null,
      "outputs": [
        {
          "output_type": "execute_result",
          "data": {
            "text/plain": [
              "1.3322676295501906e-15"
            ]
          },
          "metadata": {},
          "execution_count": 4
        }
      ]
    },
    {
      "cell_type": "code",
      "source": [
        "1.08512512585217512752195129521951291291259125921591259125129"
      ],
      "metadata": {
        "colab": {
          "base_uri": "https://localhost:8080/"
        },
        "id": "pDFmeeBUmVAf",
        "outputId": "61a3c32a-8491-40d0-a92e-5e3750579faf"
      },
      "execution_count": null,
      "outputs": [
        {
          "output_type": "execute_result",
          "data": {
            "text/plain": [
              "1.085125125852175"
            ]
          },
          "metadata": {},
          "execution_count": 7
        }
      ]
    },
    {
      "cell_type": "code",
      "source": [
        "np.linalg.inv([[1,2],[2,4]])"
      ],
      "metadata": {
        "colab": {
          "base_uri": "https://localhost:8080/",
          "height": 323
        },
        "id": "ouFpO7Jbk6G3",
        "outputId": "ee963bf8-03f4-4e72-d65f-0853205e2838"
      },
      "execution_count": null,
      "outputs": [
        {
          "output_type": "error",
          "ename": "LinAlgError",
          "evalue": "ignored",
          "traceback": [
            "\u001b[0;31m---------------------------------------------------------------------------\u001b[0m",
            "\u001b[0;31mLinAlgError\u001b[0m                               Traceback (most recent call last)",
            "\u001b[0;32m<ipython-input-5-fde5539b42e2>\u001b[0m in \u001b[0;36m<cell line: 1>\u001b[0;34m()\u001b[0m\n\u001b[0;32m----> 1\u001b[0;31m \u001b[0mnp\u001b[0m\u001b[0;34m.\u001b[0m\u001b[0mlinalg\u001b[0m\u001b[0;34m.\u001b[0m\u001b[0minv\u001b[0m\u001b[0;34m(\u001b[0m\u001b[0;34m[\u001b[0m\u001b[0;34m[\u001b[0m\u001b[0;36m1\u001b[0m\u001b[0;34m,\u001b[0m\u001b[0;36m2\u001b[0m\u001b[0;34m]\u001b[0m\u001b[0;34m,\u001b[0m\u001b[0;34m[\u001b[0m\u001b[0;36m2\u001b[0m\u001b[0;34m,\u001b[0m\u001b[0;36m4\u001b[0m\u001b[0;34m]\u001b[0m\u001b[0;34m]\u001b[0m\u001b[0;34m)\u001b[0m\u001b[0;34m\u001b[0m\u001b[0;34m\u001b[0m\u001b[0m\n\u001b[0m",
            "\u001b[0;32m/usr/local/lib/python3.10/dist-packages/numpy/core/overrides.py\u001b[0m in \u001b[0;36minv\u001b[0;34m(*args, **kwargs)\u001b[0m\n",
            "\u001b[0;32m/usr/local/lib/python3.10/dist-packages/numpy/linalg/linalg.py\u001b[0m in \u001b[0;36minv\u001b[0;34m(a)\u001b[0m\n\u001b[1;32m    550\u001b[0m     \u001b[0msignature\u001b[0m \u001b[0;34m=\u001b[0m \u001b[0;34m'D->D'\u001b[0m \u001b[0;32mif\u001b[0m \u001b[0misComplexType\u001b[0m\u001b[0;34m(\u001b[0m\u001b[0mt\u001b[0m\u001b[0;34m)\u001b[0m \u001b[0;32melse\u001b[0m \u001b[0;34m'd->d'\u001b[0m\u001b[0;34m\u001b[0m\u001b[0;34m\u001b[0m\u001b[0m\n\u001b[1;32m    551\u001b[0m     \u001b[0mextobj\u001b[0m \u001b[0;34m=\u001b[0m \u001b[0mget_linalg_error_extobj\u001b[0m\u001b[0;34m(\u001b[0m\u001b[0m_raise_linalgerror_singular\u001b[0m\u001b[0;34m)\u001b[0m\u001b[0;34m\u001b[0m\u001b[0;34m\u001b[0m\u001b[0m\n\u001b[0;32m--> 552\u001b[0;31m     \u001b[0mainv\u001b[0m \u001b[0;34m=\u001b[0m \u001b[0m_umath_linalg\u001b[0m\u001b[0;34m.\u001b[0m\u001b[0minv\u001b[0m\u001b[0;34m(\u001b[0m\u001b[0ma\u001b[0m\u001b[0;34m,\u001b[0m \u001b[0msignature\u001b[0m\u001b[0;34m=\u001b[0m\u001b[0msignature\u001b[0m\u001b[0;34m,\u001b[0m \u001b[0mextobj\u001b[0m\u001b[0;34m=\u001b[0m\u001b[0mextobj\u001b[0m\u001b[0;34m)\u001b[0m\u001b[0;34m\u001b[0m\u001b[0;34m\u001b[0m\u001b[0m\n\u001b[0m\u001b[1;32m    553\u001b[0m     \u001b[0;32mreturn\u001b[0m \u001b[0mwrap\u001b[0m\u001b[0;34m(\u001b[0m\u001b[0mainv\u001b[0m\u001b[0;34m.\u001b[0m\u001b[0mastype\u001b[0m\u001b[0;34m(\u001b[0m\u001b[0mresult_t\u001b[0m\u001b[0;34m,\u001b[0m \u001b[0mcopy\u001b[0m\u001b[0;34m=\u001b[0m\u001b[0;32mFalse\u001b[0m\u001b[0;34m)\u001b[0m\u001b[0;34m)\u001b[0m\u001b[0;34m\u001b[0m\u001b[0;34m\u001b[0m\u001b[0m\n\u001b[1;32m    554\u001b[0m \u001b[0;34m\u001b[0m\u001b[0m\n",
            "\u001b[0;32m/usr/local/lib/python3.10/dist-packages/numpy/linalg/linalg.py\u001b[0m in \u001b[0;36m_raise_linalgerror_singular\u001b[0;34m(err, flag)\u001b[0m\n\u001b[1;32m     87\u001b[0m \u001b[0;34m\u001b[0m\u001b[0m\n\u001b[1;32m     88\u001b[0m \u001b[0;32mdef\u001b[0m \u001b[0m_raise_linalgerror_singular\u001b[0m\u001b[0;34m(\u001b[0m\u001b[0merr\u001b[0m\u001b[0;34m,\u001b[0m \u001b[0mflag\u001b[0m\u001b[0;34m)\u001b[0m\u001b[0;34m:\u001b[0m\u001b[0;34m\u001b[0m\u001b[0;34m\u001b[0m\u001b[0m\n\u001b[0;32m---> 89\u001b[0;31m     \u001b[0;32mraise\u001b[0m \u001b[0mLinAlgError\u001b[0m\u001b[0;34m(\u001b[0m\u001b[0;34m\"Singular matrix\"\u001b[0m\u001b[0;34m)\u001b[0m\u001b[0;34m\u001b[0m\u001b[0;34m\u001b[0m\u001b[0m\n\u001b[0m\u001b[1;32m     90\u001b[0m \u001b[0;34m\u001b[0m\u001b[0m\n\u001b[1;32m     91\u001b[0m \u001b[0;32mdef\u001b[0m \u001b[0m_raise_linalgerror_nonposdef\u001b[0m\u001b[0;34m(\u001b[0m\u001b[0merr\u001b[0m\u001b[0;34m,\u001b[0m \u001b[0mflag\u001b[0m\u001b[0;34m)\u001b[0m\u001b[0;34m:\u001b[0m\u001b[0;34m\u001b[0m\u001b[0;34m\u001b[0m\u001b[0m\n",
            "\u001b[0;31mLinAlgError\u001b[0m: Singular matrix"
          ]
        }
      ]
    },
    {
      "cell_type": "code",
      "source": [
        "np.linalg.pinv([[1,2],[2,4]])"
      ],
      "metadata": {
        "colab": {
          "base_uri": "https://localhost:8080/"
        },
        "id": "N17YMOUvljnu",
        "outputId": "2541bef1-6e31-4548-f436-0f159150c0df"
      },
      "execution_count": null,
      "outputs": [
        {
          "output_type": "execute_result",
          "data": {
            "text/plain": [
              "array([[0.04, 0.08],\n",
              "       [0.08, 0.16]])"
            ]
          },
          "metadata": {},
          "execution_count": 6
        }
      ]
    },
    {
      "cell_type": "code",
      "source": [],
      "metadata": {
        "id": "IuyCLk9Ulpl5"
      },
      "execution_count": null,
      "outputs": []
    }
  ],
  "metadata": {
    "colab": {
      "provenance": [],
      "include_colab_link": true
    },
    "kernelspec": {
      "display_name": "Python 3 (ipykernel)",
      "language": "python",
      "name": "python3"
    },
    "language_info": {
      "codemirror_mode": {
        "name": "ipython",
        "version": 3
      },
      "file_extension": ".py",
      "mimetype": "text/x-python",
      "name": "python",
      "nbconvert_exporter": "python",
      "pygments_lexer": "ipython3",
      "version": "3.10.8"
    }
  },
  "nbformat": 4,
  "nbformat_minor": 0
}