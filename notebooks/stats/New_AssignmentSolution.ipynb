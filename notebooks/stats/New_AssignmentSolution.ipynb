{
  "nbformat": 4,
  "nbformat_minor": 0,
  "metadata": {
    "colab": {
      "provenance": [],
      "include_colab_link": true
    },
    "kernelspec": {
      "name": "python3",
      "display_name": "Python 3"
    },
    "language_info": {
      "name": "python"
    }
  },
  "cells": [
    {
      "cell_type": "markdown",
      "metadata": {
        "id": "view-in-github",
        "colab_type": "text"
      },
      "source": [
        "<a href=\"https://colab.research.google.com/github/SiriusBits/ml-engineering-lab/blob/main/notebooks/stats/New_AssignmentSolution.ipynb\" target=\"_parent\"><img src=\"https://colab.research.google.com/assets/colab-badge.svg\" alt=\"Open In Colab\"/></a>"
      ]
    },
    {
      "cell_type": "markdown",
      "source": [
        "### Import Libraries"
      ],
      "metadata": {
        "id": "ICfaqqH278Ad"
      }
    },
    {
      "cell_type": "code",
      "source": [
        "import numpy as np\n",
        "import pandas as pd\n",
        "from scipy import stats\n",
        "import seaborn as sns"
      ],
      "metadata": {
        "id": "t_rbkXJcNiK8"
      },
      "execution_count": null,
      "outputs": []
    },
    {
      "cell_type": "markdown",
      "source": [
        "Q1.\n",
        "\n",
        "Assume you have the following dataset\n",
        "\n",
        "\n",
        "25    37    24    28    2    35    22    31    53    41    64    29    120    72\n",
        "\n",
        "\n",
        "* Write a code in python to find\n",
        "\n",
        "  1. Mean\n",
        "  2. Median\n",
        "  3. Mode\n",
        "  4. Standard deviation\n",
        "  5. Interquartile range\n",
        "\n",
        "\n",
        "* Can you find out which of the points are outliers in the above dataset?\n",
        "\n",
        "* Use any library in python to create boxplot of the above dataset"
      ],
      "metadata": {
        "id": "VHpCkUlCNfqp"
      }
    },
    {
      "cell_type": "code",
      "source": [
        "data = np.array([25, 37, 24, 28, 2, 35, 22, 31, 53, 41, 64, 29, 120, 72, 2])"
      ],
      "metadata": {
        "id": "QFAArK9AUJ4I"
      },
      "execution_count": null,
      "outputs": []
    },
    {
      "cell_type": "code",
      "source": [
        "mean = data.mean()\n",
        "median = np.percentile(data, 50.0)\n",
        "mode = stats.mode(data)\n",
        "standard_deviation = data.std()\n",
        "iqr = stats.iqr(data)"
      ],
      "metadata": {
        "id": "lZ-Jar5JUZXs",
        "colab": {
          "base_uri": "https://localhost:8080/"
        },
        "outputId": "82dcd908-d9d5-4ff4-95e7-dd8838088759"
      },
      "execution_count": null,
      "outputs": [
        {
          "output_type": "stream",
          "name": "stderr",
          "text": [
            "<ipython-input-26-2b3f995fb140>:3: FutureWarning: Unlike other reduction functions (e.g. `skew`, `kurtosis`), the default behavior of `mode` typically preserves the axis it acts along. In SciPy 1.11.0, this behavior will change: the default value of `keepdims` will become False, the `axis` over which the statistic is taken will be eliminated, and the value None will no longer be accepted. Set `keepdims` to True or False to avoid this warning.\n",
            "  mode = stats.mode(data)\n"
          ]
        }
      ]
    },
    {
      "cell_type": "code",
      "source": [
        "print(\"1. Mean: \", mean)\n",
        "print(\"2. Median: \", median)\n",
        "print(\"3. Mode: \", mode[0][0])\n",
        "print(\"4. Standard Deviation: \", standard_deviation)\n",
        "print(\"5. Inter Quartile Range: \", iqr)"
      ],
      "metadata": {
        "id": "uRW8aJppUa8Z",
        "colab": {
          "base_uri": "https://localhost:8080/"
        },
        "outputId": "c62380ac-640f-4e7e-9177-ecb3b482c3c9"
      },
      "execution_count": null,
      "outputs": [
        {
          "output_type": "stream",
          "name": "stdout",
          "text": [
            "1. Mean:  39.0\n",
            "2. Median:  31.0\n",
            "3. Mode:  2\n",
            "4. Standard Deviation:  28.55170747958868\n",
            "5. Inter Quartile Range:  22.5\n"
          ]
        }
      ]
    },
    {
      "cell_type": "markdown",
      "source": [
        "* Can you find out which of the points are outliers in the above dataset?"
      ],
      "metadata": {
        "id": "HlpwNS8UWIyP"
      }
    },
    {
      "cell_type": "code",
      "source": [
        "Q1 = np.percentile(data, 25.0)\n",
        "Q3 = np.percentile(data, 75.0)\n",
        "LOWER_LIMIT = Q1 - 1.5 * iqr\n",
        "UPPER_LIMIT = Q3 + 1.5 * iqr"
      ],
      "metadata": {
        "id": "rVo2TQ9MU9j0"
      },
      "execution_count": null,
      "outputs": []
    },
    {
      "cell_type": "code",
      "source": [
        "#anything which is beyond lower and upper limit are outliers\n",
        "for elem in data:\n",
        "  if elem < LOWER_LIMIT or elem > UPPER_LIMIT:\n",
        "      print(elem)"
      ],
      "metadata": {
        "id": "UWvo6IG_TISD",
        "colab": {
          "base_uri": "https://localhost:8080/"
        },
        "outputId": "97e324a2-c713-4643-ec1e-684083c01121"
      },
      "execution_count": null,
      "outputs": [
        {
          "output_type": "stream",
          "name": "stdout",
          "text": [
            "120\n"
          ]
        }
      ]
    },
    {
      "cell_type": "markdown",
      "source": [
        "* Use any library in python to create boxplot of the above dataset"
      ],
      "metadata": {
        "id": "vH6qLASWTxjQ"
      }
    },
    {
      "cell_type": "code",
      "source": [
        "import matplotlib.pyplot as plt"
      ],
      "metadata": {
        "id": "bb9onAgMTY1W"
      },
      "execution_count": null,
      "outputs": []
    },
    {
      "cell_type": "code",
      "source": [
        "fig = plt.figure(figsize =(10, 7))\n",
        "\n",
        "# Creating plot\n",
        "plt.boxplot(data)\n",
        "\n",
        "# show plot\n",
        "plt.show()"
      ],
      "metadata": {
        "id": "Xx37WN-ET3jS",
        "colab": {
          "base_uri": "https://localhost:8080/",
          "height": 599
        },
        "outputId": "e519251d-d9e3-4166-f902-b2b3d1d566d0"
      },
      "execution_count": null,
      "outputs": [
        {
          "output_type": "display_data",
          "data": {
            "text/plain": [
              "<Figure size 1000x700 with 1 Axes>"
            ],
            "image/png": "[encoded data removed]"
          },
          "metadata": {}
        }
      ]
    },
    {
      "cell_type": "markdown",
      "source": [
        "**Observation**\n",
        "* Note that point near 120 mark is our outlier"
      ],
      "metadata": {
        "id": "udleWIWaT-fs"
      }
    },
    {
      "cell_type": "markdown",
      "source": [
        "\n",
        "\n",
        "---\n",
        "\n",
        "\n",
        "\n",
        "---\n",
        "\n"
      ],
      "metadata": {
        "id": "0HFTHn4s-Nmj"
      }
    },
    {
      "cell_type": "markdown",
      "source": [
        "Q2.\n",
        "\n",
        "John is visiting planet Utopia and he figures out that the population is 1 million. Utopians are very tall and their height varies between 180 cm  and 250 cm. John tries to estimate the population size by randomly identifying 10000 people n times and finds their mean heights. Can you help John do the following using python?"
      ],
      "metadata": {
        "id": "KCEnBdmvUyzE"
      }
    },
    {
      "cell_type": "markdown",
      "source": [
        "a. Generate population samples of size 10000 with height between 180 cm  and 250 cm by varying n(number of times you identify 10000 random people) as following\n",
        "\n",
        "1. 5\n",
        "2. 10\n",
        "3. 100\n",
        "4. 1000\n",
        "5. 10000"
      ],
      "metadata": {
        "id": "ojpIPSUCU6WJ"
      }
    },
    {
      "cell_type": "code",
      "source": [
        "population_array = []\n",
        "\n",
        "for POPULATION_SIZE in [5, 10, 100, 1000, 100000]:\n",
        "  temp_array = []\n",
        "  for i in range(0, POPULATION_SIZE):\n",
        "    temp_array.append(np.random.randint(180, 250, size=10000))\n",
        "\n",
        "  population_array.append(temp_array)"
      ],
      "metadata": {
        "id": "WIz3Q4m7lKuJ"
      },
      "execution_count": null,
      "outputs": []
    },
    {
      "cell_type": "markdown",
      "source": [
        "b. Plot histogram of the population means"
      ],
      "metadata": {
        "id": "k78yp6AdVD4W"
      }
    },
    {
      "cell_type": "code",
      "source": [
        "mean_arr_5 = [elem.mean() for elem in population_array[0]]\n",
        "sns.histplot(mean_arr_5)\n",
        "sns.kdeplot(mean_arr_5)"
      ],
      "metadata": {
        "id": "iaMze9nMVH2p",
        "colab": {
          "base_uri": "https://localhost:8080/",
          "height": 447
        },
        "outputId": "8e306ac2-e713-472b-83d8-2b6bf67fdd03"
      },
      "execution_count": null,
      "outputs": [
        {
          "output_type": "execute_result",
          "data": {
            "text/plain": [
              "<Axes: ylabel='Count'>"
            ]
          },
          "metadata": {},
          "execution_count": 12
        },
        {
          "output_type": "display_data",
          "data": {
            "text/plain": [
              "<Figure size 640x480 with 1 Axes>"
            ],
            "image/png": "[encoded data removed]"
          },
          "metadata": {}
        }
      ]
    },
    {
      "cell_type": "code",
      "source": [
        "mean_arr_10 = [elem.mean() for elem in population_array[1]]\n",
        "sns.histplot(mean_arr_10)\n",
        "sns.kdeplot(mean_arr_10)"
      ],
      "metadata": {
        "id": "IMNJXbgK5tTe",
        "colab": {
          "base_uri": "https://localhost:8080/",
          "height": 447
        },
        "outputId": "a90a4f6b-7bf8-4085-8c8c-747d182f6ee4"
      },
      "execution_count": null,
      "outputs": [
        {
          "output_type": "execute_result",
          "data": {
            "text/plain": [
              "<Axes: ylabel='Count'>"
            ]
          },
          "metadata": {},
          "execution_count": 13
        },
        {
          "output_type": "display_data",
          "data": {
            "text/plain": [
              "<Figure size 640x480 with 1 Axes>"
            ],
            "image/png": "[encoded data removed]"
          },
          "metadata": {}
        }
      ]
    },
    {
      "cell_type": "code",
      "source": [
        "mean_arr_100 = [elem.mean() for elem in population_array[2]]\n",
        "sns.histplot(mean_arr_100)\n",
        "sns.kdeplot(mean_arr_100)"
      ],
      "metadata": {
        "id": "HRNsjgkb5xOf",
        "colab": {
          "base_uri": "https://localhost:8080/",
          "height": 447
        },
        "outputId": "31479b7c-5389-4a16-9ed7-b9e3cc65e569"
      },
      "execution_count": null,
      "outputs": [
        {
          "output_type": "execute_result",
          "data": {
            "text/plain": [
              "<Axes: ylabel='Count'>"
            ]
          },
          "metadata": {},
          "execution_count": 14
        },
        {
          "output_type": "display_data",
          "data": {
            "text/plain": [
              "<Figure size 640x480 with 1 Axes>"
            ],
            "image/png": "[encoded data removed]"
          },
          "metadata": {}
        }
      ]
    },
    {
      "cell_type": "code",
      "source": [
        "mean_arr_1000 = [elem.mean() for elem in population_array[3]]\n",
        "sns.histplot(mean_arr_1000)\n",
        "sns.kdeplot(mean_arr_1000)"
      ],
      "metadata": {
        "id": "VUZpo-rA5xYI",
        "colab": {
          "base_uri": "https://localhost:8080/",
          "height": 450
        },
        "outputId": "8a6626fa-4320-4a5b-d4d5-35db0a232d50"
      },
      "execution_count": null,
      "outputs": [
        {
          "output_type": "execute_result",
          "data": {
            "text/plain": [
              "<Axes: ylabel='Count'>"
            ]
          },
          "metadata": {},
          "execution_count": 15
        },
        {
          "output_type": "display_data",
          "data": {
            "text/plain": [
              "<Figure size 640x480 with 1 Axes>"
            ],
            "image/png": "[encoded data removed]"
          },
          "metadata": {}
        }
      ]
    },
    {
      "cell_type": "code",
      "source": [
        "mean_arr_100000 = [elem.mean() for elem in population_array[4]]\n",
        "sns.histplot(mean_arr_100000)\n",
        "sns.kdeplot(mean_arr_100000)"
      ],
      "metadata": {
        "id": "MXkTKOlP5xfs",
        "colab": {
          "base_uri": "https://localhost:8080/",
          "height": 447
        },
        "outputId": "79c98ad8-0b6e-4a34-937d-9895cc9cb06f"
      },
      "execution_count": null,
      "outputs": [
        {
          "output_type": "execute_result",
          "data": {
            "text/plain": [
              "<Axes: ylabel='Count'>"
            ]
          },
          "metadata": {},
          "execution_count": 16
        },
        {
          "output_type": "display_data",
          "data": {
            "text/plain": [
              "<Figure size 640x480 with 1 Axes>"
            ],
            "image/png": "[encoded data removed]"
          },
          "metadata": {}
        }
      ]
    },
    {
      "cell_type": "markdown",
      "source": [
        "c. Does the population mean approach normal distribution as the sample size increases?"
      ],
      "metadata": {
        "id": "7W85n7roVGhH"
      }
    },
    {
      "cell_type": "markdown",
      "source": [
        "* You can see from the above plots that as the number of samples increases the variance decreases and the plot starts looking more concise\n",
        "* Now recall CLT, distribution becomes  more normal as sample size is increasing ans we can see it here"
      ],
      "metadata": {
        "id": "C8Re0XfI5-QT"
      }
    },
    {
      "cell_type": "markdown",
      "source": [
        "\n",
        "\n",
        "---\n",
        "\n",
        "\n",
        "\n",
        "---\n",
        "\n"
      ],
      "metadata": {
        "id": "0qjA1rBl-SiN"
      }
    },
    {
      "cell_type": "markdown",
      "source": [
        "Q3.\n",
        "\n",
        "Generate exponential distribution in Python using scipy library using rate=25 and sample size=100."
      ],
      "metadata": {
        "id": "WpRsndg16-eG"
      }
    },
    {
      "cell_type": "code",
      "source": [
        "import scipy.stats as stats\n",
        "\n",
        "rate = 25  # rate parameter\n",
        "sample_size = 100  # sample size\n",
        "\n",
        "# generate exponential distribution with rate parameter\n",
        "exponential_dist = stats.expon(scale=1/rate)\n",
        "\n",
        "# generate 100 samples from the exponential distribution\n",
        "samples = exponential_dist.rvs(size=sample_size)\n",
        "\n",
        "print(samples)"
      ],
      "metadata": {
        "id": "Arpq2tpY9QS8",
        "colab": {
          "base_uri": "https://localhost:8080/"
        },
        "outputId": "5f5ca6e3-bfea-40a6-ed81-56bce3845c54"
      },
      "execution_count": null,
      "outputs": [
        {
          "output_type": "stream",
          "name": "stdout",
          "text": [
            "[5.15309294e-02 6.19669368e-02 1.45839394e-01 4.93466522e-03\n",
            " 9.43111203e-03 1.32726708e-02 1.10001802e-01 3.80230840e-02\n",
            " 4.93559621e-02 7.24305731e-02 1.08937125e-03 2.69195352e-02\n",
            " 8.03149640e-02 9.68277994e-02 1.23979368e-02 2.71386626e-03\n",
            " 3.15737272e-02 7.04820166e-03 1.90157424e-02 4.54036863e-02\n",
            " 6.82181406e-03 3.46750318e-03 3.97141233e-03 6.38053058e-02\n",
            " 2.43711754e-02 1.71729818e-02 2.48210102e-03 2.75757445e-02\n",
            " 6.65867587e-02 3.86788373e-03 6.96893287e-03 1.53619771e-02\n",
            " 4.46941580e-02 3.08473830e-02 7.14671101e-02 3.36199404e-02\n",
            " 2.27707955e-02 2.45330563e-02 5.27129791e-03 4.93528103e-02\n",
            " 5.80170471e-02 5.52175555e-02 6.91605184e-02 1.12905875e-02\n",
            " 3.53349862e-02 1.44723224e-02 1.15625258e-01 1.55258764e-02\n",
            " 2.19815844e-02 2.64347291e-02 8.12766119e-03 3.38483226e-02\n",
            " 6.53471801e-02 1.12958418e-01 1.44142260e-02 2.21124011e-02\n",
            " 1.24829096e-02 4.87827999e-02 5.41163679e-02 3.77947156e-02\n",
            " 4.85909267e-02 2.50419685e-02 3.70291473e-02 3.69229339e-02\n",
            " 7.59476999e-02 8.27626106e-04 6.25668377e-03 1.28356899e-03\n",
            " 4.44557623e-02 1.35032797e-02 1.35924721e-02 1.40541013e-04\n",
            " 5.90275340e-03 6.28739943e-02 1.11977554e-02 8.56320881e-02\n",
            " 1.72843510e-01 1.01946367e-02 3.15519204e-03 1.48244140e-02\n",
            " 1.85753111e-02 5.97330065e-03 9.06560127e-02 5.83738180e-02\n",
            " 2.16928753e-02 8.28700173e-03 7.08385943e-04 6.18002802e-03\n",
            " 1.88003292e-02 2.09160513e-02 4.39981908e-02 1.09815309e-01\n",
            " 1.07475890e-01 5.04316216e-02 2.92330862e-02 4.07873998e-03\n",
            " 1.16834870e-02 1.69371604e-01 3.55038455e-02 4.70925731e-02]\n"
          ]
        }
      ]
    },
    {
      "cell_type": "markdown",
      "source": [
        "a. Plot a histogram of the the above distribution\n"
      ],
      "metadata": {
        "id": "m7sdpfRC6-jJ"
      }
    },
    {
      "cell_type": "code",
      "source": [
        "sns.histplot(samples)\n",
        "sns.kdeplot(samples)"
      ],
      "metadata": {
        "id": "E2fWbSLN7jQ4",
        "colab": {
          "base_uri": "https://localhost:8080/",
          "height": 447
        },
        "outputId": "c9e150a5-41c5-4559-f4ff-268cee893bbe"
      },
      "execution_count": null,
      "outputs": [
        {
          "output_type": "execute_result",
          "data": {
            "text/plain": [
              "<Axes: ylabel='Count'>"
            ]
          },
          "metadata": {},
          "execution_count": 22
        },
        {
          "output_type": "display_data",
          "data": {
            "text/plain": [
              "<Figure size 640x480 with 1 Axes>"
            ],
            "image/png": "[encoded data removed]"
          },
          "metadata": {}
        }
      ]
    },
    {
      "cell_type": "markdown",
      "source": [
        "b. Calculate probability that x is less than 50 when the mean rate is 25"
      ],
      "metadata": {
        "id": "k94SE75E6-vN"
      }
    },
    {
      "cell_type": "markdown",
      "source": [
        "P(X < x) = 1 - exp(-λx)\n",
        "\n",
        "In this case, the mean rate is 25, so λ = 1/25.\n",
        "\n",
        "We want to find the probability that X is less than 50, so x = 50. Plugging these values into the formula, we get:\n",
        "\n",
        "P(X < 50) = 1 - exp(-50/25)\n",
        "= 1 - exp(-2)\n",
        "≈ 0.8647"
      ],
      "metadata": {
        "id": "mCIzAGrn98eG"
      }
    },
    {
      "cell_type": "markdown",
      "source": [
        "\n",
        "\n",
        "---\n",
        "\n",
        "\n",
        "\n",
        "---\n",
        "\n"
      ],
      "metadata": {
        "id": "gH-8MNbY-Hd5"
      }
    },
    {
      "cell_type": "markdown",
      "source": [
        "Q4.\n",
        "\n",
        "Steve has just learnt about linear regression and MLE and is trying to find out the relationship between them. He uses the following dataset to learn the relation between humidity and temperature"
      ],
      "metadata": {
        "id": "9Z0MPLnn7GUd"
      }
    },
    {
      "cell_type": "markdown",
      "source": [
        "[Dataset](https://www.kaggle.com/datasets/budincsevity/szeged-weather?resource=download)"
      ],
      "metadata": {
        "id": "oDxk2hvg-jYI"
      }
    },
    {
      "cell_type": "markdown",
      "source": [
        "a. Prepare a sample of the dataset and calculate correlation between  humidity and temperature"
      ],
      "metadata": {
        "id": "kZQV4ZDQ7GZT"
      }
    },
    {
      "cell_type": "code",
      "source": [
        "df = pd.read_csv('weatherHistory.csv')[['Humidity', 'Temperature (C)']].sample(n = 1000)\n",
        "df.head()"
      ],
      "metadata": {
        "id": "NUINiPu_7kaP",
        "colab": {
          "base_uri": "https://localhost:8080/",
          "height": 356
        },
        "outputId": "6563256e-ea99-4a7e-844c-fef81396e3ee"
      },
      "execution_count": null,
      "outputs": [
        {
          "output_type": "error",
          "ename": "FileNotFoundError",
          "evalue": "ignored",
          "traceback": [
            "\u001b[0;31m---------------------------------------------------------------------------\u001b[0m",
            "\u001b[0;31mFileNotFoundError\u001b[0m                         Traceback (most recent call last)",
            "\u001b[0;32m<ipython-input-32-ee0d4151296c>\u001b[0m in \u001b[0;36m<cell line: 1>\u001b[0;34m()\u001b[0m\n\u001b[0;32m----> 1\u001b[0;31m \u001b[0mdf\u001b[0m \u001b[0;34m=\u001b[0m \u001b[0mpd\u001b[0m\u001b[0;34m.\u001b[0m\u001b[0mread_csv\u001b[0m\u001b[0;34m(\u001b[0m\u001b[0;34m'weatherHistory.csv'\u001b[0m\u001b[0;34m)\u001b[0m\u001b[0;34m[\u001b[0m\u001b[0;34m[\u001b[0m\u001b[0;34m'Humidity'\u001b[0m\u001b[0;34m,\u001b[0m \u001b[0;34m'Temperature (C)'\u001b[0m\u001b[0;34m]\u001b[0m\u001b[0;34m]\u001b[0m\u001b[0;34m.\u001b[0m\u001b[0msample\u001b[0m\u001b[0;34m(\u001b[0m\u001b[0mn\u001b[0m \u001b[0;34m=\u001b[0m \u001b[0;36m1000\u001b[0m\u001b[0;34m)\u001b[0m\u001b[0;34m\u001b[0m\u001b[0;34m\u001b[0m\u001b[0m\n\u001b[0m\u001b[1;32m      2\u001b[0m \u001b[0mdf\u001b[0m\u001b[0;34m.\u001b[0m\u001b[0mhead\u001b[0m\u001b[0;34m(\u001b[0m\u001b[0;34m)\u001b[0m\u001b[0;34m\u001b[0m\u001b[0;34m\u001b[0m\u001b[0m\n",
            "\u001b[0;32m/usr/local/lib/python3.10/dist-packages/pandas/util/_decorators.py\u001b[0m in \u001b[0;36mwrapper\u001b[0;34m(*args, **kwargs)\u001b[0m\n\u001b[1;32m    209\u001b[0m                 \u001b[0;32melse\u001b[0m\u001b[0;34m:\u001b[0m\u001b[0;34m\u001b[0m\u001b[0;34m\u001b[0m\u001b[0m\n\u001b[1;32m    210\u001b[0m                     \u001b[0mkwargs\u001b[0m\u001b[0;34m[\u001b[0m\u001b[0mnew_arg_name\u001b[0m\u001b[0;34m]\u001b[0m \u001b[0;34m=\u001b[0m \u001b[0mnew_arg_value\u001b[0m\u001b[0;34m\u001b[0m\u001b[0;34m\u001b[0m\u001b[0m\n\u001b[0;32m--> 211\u001b[0;31m             \u001b[0;32mreturn\u001b[0m \u001b[0mfunc\u001b[0m\u001b[0;34m(\u001b[0m\u001b[0;34m*\u001b[0m\u001b[0margs\u001b[0m\u001b[0;34m,\u001b[0m \u001b[0;34m**\u001b[0m\u001b[0mkwargs\u001b[0m\u001b[0;34m)\u001b[0m\u001b[0;34m\u001b[0m\u001b[0;34m\u001b[0m\u001b[0m\n\u001b[0m\u001b[1;32m    212\u001b[0m \u001b[0;34m\u001b[0m\u001b[0m\n\u001b[1;32m    213\u001b[0m         \u001b[0;32mreturn\u001b[0m \u001b[0mcast\u001b[0m\u001b[0;34m(\u001b[0m\u001b[0mF\u001b[0m\u001b[0;34m,\u001b[0m \u001b[0mwrapper\u001b[0m\u001b[0;34m)\u001b[0m\u001b[0;34m\u001b[0m\u001b[0;34m\u001b[0m\u001b[0m\n",
            "\u001b[0;32m/usr/local/lib/python3.10/dist-packages/pandas/util/_decorators.py\u001b[0m in \u001b[0;36mwrapper\u001b[0;34m(*args, **kwargs)\u001b[0m\n\u001b[1;32m    329\u001b[0m                     \u001b[0mstacklevel\u001b[0m\u001b[0;34m=\u001b[0m\u001b[0mfind_stack_level\u001b[0m\u001b[0;34m(\u001b[0m\u001b[0;34m)\u001b[0m\u001b[0;34m,\u001b[0m\u001b[0;34m\u001b[0m\u001b[0;34m\u001b[0m\u001b[0m\n\u001b[1;32m    330\u001b[0m                 )\n\u001b[0;32m--> 331\u001b[0;31m             \u001b[0;32mreturn\u001b[0m \u001b[0mfunc\u001b[0m\u001b[0;34m(\u001b[0m\u001b[0;34m*\u001b[0m\u001b[0margs\u001b[0m\u001b[0;34m,\u001b[0m \u001b[0;34m**\u001b[0m\u001b[0mkwargs\u001b[0m\u001b[0;34m)\u001b[0m\u001b[0;34m\u001b[0m\u001b[0;34m\u001b[0m\u001b[0m\n\u001b[0m\u001b[1;32m    332\u001b[0m \u001b[0;34m\u001b[0m\u001b[0m\n\u001b[1;32m    333\u001b[0m         \u001b[0;31m# error: \"Callable[[VarArg(Any), KwArg(Any)], Any]\" has no\u001b[0m\u001b[0;34m\u001b[0m\u001b[0;34m\u001b[0m\u001b[0m\n",
            "\u001b[0;32m/usr/local/lib/python3.10/dist-packages/pandas/io/parsers/readers.py\u001b[0m in \u001b[0;36mread_csv\u001b[0;34m(filepath_or_buffer, sep, delimiter, header, names, index_col, usecols, squeeze, prefix, mangle_dupe_cols, dtype, engine, converters, true_values, false_values, skipinitialspace, skiprows, skipfooter, nrows, na_values, keep_default_na, na_filter, verbose, skip_blank_lines, parse_dates, infer_datetime_format, keep_date_col, date_parser, dayfirst, cache_dates, iterator, chunksize, compression, thousands, decimal, lineterminator, quotechar, quoting, doublequote, escapechar, comment, encoding, encoding_errors, dialect, error_bad_lines, warn_bad_lines, on_bad_lines, delim_whitespace, low_memory, memory_map, float_precision, storage_options)\u001b[0m\n\u001b[1;32m    948\u001b[0m     \u001b[0mkwds\u001b[0m\u001b[0;34m.\u001b[0m\u001b[0mupdate\u001b[0m\u001b[0;34m(\u001b[0m\u001b[0mkwds_defaults\u001b[0m\u001b[0;34m)\u001b[0m\u001b[0;34m\u001b[0m\u001b[0;34m\u001b[0m\u001b[0m\n\u001b[1;32m    949\u001b[0m \u001b[0;34m\u001b[0m\u001b[0m\n\u001b[0;32m--> 950\u001b[0;31m     \u001b[0;32mreturn\u001b[0m \u001b[0m_read\u001b[0m\u001b[0;34m(\u001b[0m\u001b[0mfilepath_or_buffer\u001b[0m\u001b[0;34m,\u001b[0m \u001b[0mkwds\u001b[0m\u001b[0;34m)\u001b[0m\u001b[0;34m\u001b[0m\u001b[0;34m\u001b[0m\u001b[0m\n\u001b[0m\u001b[1;32m    951\u001b[0m \u001b[0;34m\u001b[0m\u001b[0m\n\u001b[1;32m    952\u001b[0m \u001b[0;34m\u001b[0m\u001b[0m\n",
            "\u001b[0;32m/usr/local/lib/python3.10/dist-packages/pandas/io/parsers/readers.py\u001b[0m in \u001b[0;36m_read\u001b[0;34m(filepath_or_buffer, kwds)\u001b[0m\n\u001b[1;32m    603\u001b[0m \u001b[0;34m\u001b[0m\u001b[0m\n\u001b[1;32m    604\u001b[0m     \u001b[0;31m# Create the parser.\u001b[0m\u001b[0;34m\u001b[0m\u001b[0;34m\u001b[0m\u001b[0m\n\u001b[0;32m--> 605\u001b[0;31m     \u001b[0mparser\u001b[0m \u001b[0;34m=\u001b[0m \u001b[0mTextFileReader\u001b[0m\u001b[0;34m(\u001b[0m\u001b[0mfilepath_or_buffer\u001b[0m\u001b[0;34m,\u001b[0m \u001b[0;34m**\u001b[0m\u001b[0mkwds\u001b[0m\u001b[0;34m)\u001b[0m\u001b[0;34m\u001b[0m\u001b[0;34m\u001b[0m\u001b[0m\n\u001b[0m\u001b[1;32m    606\u001b[0m \u001b[0;34m\u001b[0m\u001b[0m\n\u001b[1;32m    607\u001b[0m     \u001b[0;32mif\u001b[0m \u001b[0mchunksize\u001b[0m \u001b[0;32mor\u001b[0m \u001b[0miterator\u001b[0m\u001b[0;34m:\u001b[0m\u001b[0;34m\u001b[0m\u001b[0;34m\u001b[0m\u001b[0m\n",
            "\u001b[0;32m/usr/local/lib/python3.10/dist-packages/pandas/io/parsers/readers.py\u001b[0m in \u001b[0;36m__init__\u001b[0;34m(self, f, engine, **kwds)\u001b[0m\n\u001b[1;32m   1440\u001b[0m \u001b[0;34m\u001b[0m\u001b[0m\n\u001b[1;32m   1441\u001b[0m         \u001b[0mself\u001b[0m\u001b[0;34m.\u001b[0m\u001b[0mhandles\u001b[0m\u001b[0;34m:\u001b[0m \u001b[0mIOHandles\u001b[0m \u001b[0;34m|\u001b[0m \u001b[0;32mNone\u001b[0m \u001b[0;34m=\u001b[0m \u001b[0;32mNone\u001b[0m\u001b[0;34m\u001b[0m\u001b[0;34m\u001b[0m\u001b[0m\n\u001b[0;32m-> 1442\u001b[0;31m         \u001b[0mself\u001b[0m\u001b[0;34m.\u001b[0m\u001b[0m_engine\u001b[0m \u001b[0;34m=\u001b[0m \u001b[0mself\u001b[0m\u001b[0;34m.\u001b[0m\u001b[0m_make_engine\u001b[0m\u001b[0;34m(\u001b[0m\u001b[0mf\u001b[0m\u001b[0;34m,\u001b[0m \u001b[0mself\u001b[0m\u001b[0;34m.\u001b[0m\u001b[0mengine\u001b[0m\u001b[0;34m)\u001b[0m\u001b[0;34m\u001b[0m\u001b[0;34m\u001b[0m\u001b[0m\n\u001b[0m\u001b[1;32m   1443\u001b[0m \u001b[0;34m\u001b[0m\u001b[0m\n\u001b[1;32m   1444\u001b[0m     \u001b[0;32mdef\u001b[0m \u001b[0mclose\u001b[0m\u001b[0;34m(\u001b[0m\u001b[0mself\u001b[0m\u001b[0;34m)\u001b[0m \u001b[0;34m->\u001b[0m \u001b[0;32mNone\u001b[0m\u001b[0;34m:\u001b[0m\u001b[0;34m\u001b[0m\u001b[0;34m\u001b[0m\u001b[0m\n",
            "\u001b[0;32m/usr/local/lib/python3.10/dist-packages/pandas/io/parsers/readers.py\u001b[0m in \u001b[0;36m_make_engine\u001b[0;34m(self, f, engine)\u001b[0m\n\u001b[1;32m   1733\u001b[0m                 \u001b[0;32mif\u001b[0m \u001b[0;34m\"b\"\u001b[0m \u001b[0;32mnot\u001b[0m \u001b[0;32min\u001b[0m \u001b[0mmode\u001b[0m\u001b[0;34m:\u001b[0m\u001b[0;34m\u001b[0m\u001b[0;34m\u001b[0m\u001b[0m\n\u001b[1;32m   1734\u001b[0m                     \u001b[0mmode\u001b[0m \u001b[0;34m+=\u001b[0m \u001b[0;34m\"b\"\u001b[0m\u001b[0;34m\u001b[0m\u001b[0;34m\u001b[0m\u001b[0m\n\u001b[0;32m-> 1735\u001b[0;31m             self.handles = get_handle(\n\u001b[0m\u001b[1;32m   1736\u001b[0m                 \u001b[0mf\u001b[0m\u001b[0;34m,\u001b[0m\u001b[0;34m\u001b[0m\u001b[0;34m\u001b[0m\u001b[0m\n\u001b[1;32m   1737\u001b[0m                 \u001b[0mmode\u001b[0m\u001b[0;34m,\u001b[0m\u001b[0;34m\u001b[0m\u001b[0;34m\u001b[0m\u001b[0m\n",
            "\u001b[0;32m/usr/local/lib/python3.10/dist-packages/pandas/io/common.py\u001b[0m in \u001b[0;36mget_handle\u001b[0;34m(path_or_buf, mode, encoding, compression, memory_map, is_text, errors, storage_options)\u001b[0m\n\u001b[1;32m    854\u001b[0m         \u001b[0;32mif\u001b[0m \u001b[0mioargs\u001b[0m\u001b[0;34m.\u001b[0m\u001b[0mencoding\u001b[0m \u001b[0;32mand\u001b[0m \u001b[0;34m\"b\"\u001b[0m \u001b[0;32mnot\u001b[0m \u001b[0;32min\u001b[0m \u001b[0mioargs\u001b[0m\u001b[0;34m.\u001b[0m\u001b[0mmode\u001b[0m\u001b[0;34m:\u001b[0m\u001b[0;34m\u001b[0m\u001b[0;34m\u001b[0m\u001b[0m\n\u001b[1;32m    855\u001b[0m             \u001b[0;31m# Encoding\u001b[0m\u001b[0;34m\u001b[0m\u001b[0;34m\u001b[0m\u001b[0m\n\u001b[0;32m--> 856\u001b[0;31m             handle = open(\n\u001b[0m\u001b[1;32m    857\u001b[0m                 \u001b[0mhandle\u001b[0m\u001b[0;34m,\u001b[0m\u001b[0;34m\u001b[0m\u001b[0;34m\u001b[0m\u001b[0m\n\u001b[1;32m    858\u001b[0m                 \u001b[0mioargs\u001b[0m\u001b[0;34m.\u001b[0m\u001b[0mmode\u001b[0m\u001b[0;34m,\u001b[0m\u001b[0;34m\u001b[0m\u001b[0;34m\u001b[0m\u001b[0m\n",
            "\u001b[0;31mFileNotFoundError\u001b[0m: [Errno 2] No such file or directory: 'weatherHistory.csv'"
          ]
        }
      ]
    },
    {
      "cell_type": "code",
      "source": [
        "df.corr()"
      ],
      "metadata": {
        "id": "IGBkeVnWBWWg"
      },
      "execution_count": null,
      "outputs": []
    },
    {
      "cell_type": "markdown",
      "source": [
        "b. Use minimise function from scipy to get the optimal parameters\n",
        "\n",
        "\n",
        "You can use np.array([2, 2, 2]) to initialise the parameters"
      ],
      "metadata": {
        "id": "ai2MqvaP7Gb0"
      }
    },
    {
      "cell_type": "code",
      "source": [
        "from scipy.optimize import minimize"
      ],
      "metadata": {
        "id": "sVOAFu3sCW0Y"
      },
      "execution_count": null,
      "outputs": []
    },
    {
      "cell_type": "code",
      "source": [
        "# MLE\n",
        "x = df['Humidity'].values\n",
        "y = df['Temperature (C)'].values\n",
        "\n",
        "def MLE_Norm(parameters):\n",
        "  const, beta, std_dev = parameters\n",
        "  pred = const + beta*x\n",
        "\n",
        "  LL = np.sum(stats.norm.logpdf(y, pred, std_dev))\n",
        "  neg_LL = -1*LL\n",
        "  return neg_LL\n",
        "\n",
        "mle_model = minimize(MLE_Norm, np.array([2,2,2]), method='L-BFGS-B')\n",
        "mle_model"
      ],
      "metadata": {
        "id": "eXppogEk7k0d"
      },
      "execution_count": null,
      "outputs": []
    },
    {
      "cell_type": "markdown",
      "source": [
        "C . Try out following methods to estimate the parameters(optional)"
      ],
      "metadata": {
        "id": "P7AcO3F07ONa"
      }
    },
    {
      "cell_type": "markdown",
      "source": [
        "i. Use statsmodels to fit a linear regression model using OLS"
      ],
      "metadata": {
        "id": "3os3ajo6EcN2"
      }
    },
    {
      "cell_type": "code",
      "source": [
        "from statsmodels import api"
      ],
      "metadata": {
        "id": "iU_VpbgrCwXC"
      },
      "execution_count": null,
      "outputs": []
    },
    {
      "cell_type": "code",
      "source": [
        "features = api.add_constant(df['Humidity'])\n",
        "model = api.OLS(df['Temperature (C)'].values, features).fit()\n",
        "model.summary()"
      ],
      "metadata": {
        "id": "IYqRfAZT7lTh"
      },
      "execution_count": null,
      "outputs": []
    },
    {
      "cell_type": "code",
      "source": [
        "res = model.resid\n",
        "standard_dev = np.std(res)\n",
        "standard_dev"
      ],
      "metadata": {
        "id": "eDpxR8FCU23Q"
      },
      "execution_count": null,
      "outputs": []
    },
    {
      "cell_type": "markdown",
      "source": [
        "ii. Compare the parameters obtained in b & c. What did you observe?"
      ],
      "metadata": {
        "id": "TDhEo_hwEegv"
      }
    },
    {
      "cell_type": "markdown",
      "source": [
        "* We can seet that the parameters obtained using OLS and MLE are same\n",
        "\n",
        "\n",
        "* x = 35.1170\n",
        "* y = -32.1917\n",
        "* std = 7.568\n",
        "\n"
      ],
      "metadata": {
        "id": "WMtXUN7MEhf1"
      }
    },
    {
      "cell_type": "code",
      "source": [],
      "metadata": {
        "id": "abT2uLlTC97-"
      },
      "execution_count": null,
      "outputs": []
    }
  ]
}